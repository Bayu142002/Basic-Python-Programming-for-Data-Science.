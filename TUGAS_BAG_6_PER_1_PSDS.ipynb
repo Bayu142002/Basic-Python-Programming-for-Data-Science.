{
  "nbformat": 4,
  "nbformat_minor": 0,
  "metadata": {
    "colab": {
      "name": "TUGAS BAG 6 PER 1 PSDS.ipynb",
      "provenance": [],
      "authorship_tag": "ABX9TyNRCn7cJReSoFVH9IyCuwUm",
      "include_colab_link": true
    },
    "kernelspec": {
      "name": "python3",
      "display_name": "Python 3"
    },
    "language_info": {
      "name": "python"
    }
  },
  "cells": [
    {
      "cell_type": "markdown",
      "metadata": {
        "id": "view-in-github",
        "colab_type": "text"
      },
      "source": [
        "<a href=\"https://colab.research.google.com/github/Bayu142002/Basic-Python-Programming-for-Data-Science./blob/main/TUGAS_BAG_6_PER_1_PSDS.ipynb\" target=\"_parent\"><img src=\"https://colab.research.google.com/assets/colab-badge.svg\" alt=\"Open In Colab\"/></a>"
      ]
    },
    {
      "cell_type": "markdown",
      "metadata": {
        "id": "RSWn5DNr4tMD"
      },
      "source": [
        "## Membuat Array Menggunakan Numpy\n"
      ]
    },
    {
      "cell_type": "code",
      "metadata": {
        "colab": {
          "base_uri": "https://localhost:8080/"
        },
        "id": "4LX9QdIsuXOM",
        "outputId": "55fe58e1-f21c-4cf8-bae5-927c3c82a013"
      },
      "source": [
        "import numpy as np\n",
        "\n",
        "# Vector\n",
        "x = np.array([2,3,5,7,9,11])\n",
        "print(\"\\nvektor bilangan prima\\n\",x)\n",
        "y = np.arange(1,20,3)\n",
        "print(\"\\nvektor 1 sampai 20 dengan beda 3\\n\",y)\n",
        "\n",
        "# Linspace\n",
        "z = np.linspace(1,10,15)\n",
        "print(\"\\nmembuat linspace\\n\",z)\n",
        "\n",
        "# Matrik\n",
        "a = np.array([(1,3,5),(2,4,6),(1,5,9)])\n",
        "print(\"\\nmatriks biasa dengan 3 baris dan 3 colom\",a)\n",
        "b = np.zeros((3,2))\n",
        "print(\"\\nmembuat matriks 3 baris 2 colom yang semua elemennya 0\\n\",b)\n",
        "c = np.ones((4,5))\n",
        "print(\"\\nmembuat matriks 4 baris 5 colom yang semua elemennya 1\\n\",c)\n",
        "d = np.identity(8)\n",
        "print(\"\\nmembuat matriks diagonal, dengan baris 8 colom 8\\n\",d)\n",
        "e = np.eye(3)\n",
        "print(\"\\nmembuat matriks diagonal, dengan baris 3 colom 3\\n\",e)"
      ],
      "execution_count": 31,
      "outputs": [
        {
          "output_type": "stream",
          "text": [
            "\n",
            "vektor bilangan prima\n",
            " [ 2  3  5  7  9 11]\n",
            "\n",
            "vektor 1 sampai 20 dengan beda 3\n",
            " [ 1  4  7 10 13 16 19]\n",
            "\n",
            "membuat linspace\n",
            " [ 1.          1.64285714  2.28571429  2.92857143  3.57142857  4.21428571\n",
            "  4.85714286  5.5         6.14285714  6.78571429  7.42857143  8.07142857\n",
            "  8.71428571  9.35714286 10.        ]\n",
            "\n",
            "matriks biasa dengan 3 baris dan 3 colom [[1 3 5]\n",
            " [2 4 6]\n",
            " [1 5 9]]\n",
            "\n",
            "membuat matriks 3 baris 2 colom yang semua elemennya 0\n",
            " [[0. 0.]\n",
            " [0. 0.]\n",
            " [0. 0.]]\n",
            "\n",
            "membuat matriks 4 baris 5 colom yang semua elemennya 1\n",
            " [[1. 1. 1. 1. 1.]\n",
            " [1. 1. 1. 1. 1.]\n",
            " [1. 1. 1. 1. 1.]\n",
            " [1. 1. 1. 1. 1.]]\n",
            "\n",
            "membuat matriks diagonal, dengan baris 8 colom 8\n",
            " [[1. 0. 0. 0. 0. 0. 0. 0.]\n",
            " [0. 1. 0. 0. 0. 0. 0. 0.]\n",
            " [0. 0. 1. 0. 0. 0. 0. 0.]\n",
            " [0. 0. 0. 1. 0. 0. 0. 0.]\n",
            " [0. 0. 0. 0. 1. 0. 0. 0.]\n",
            " [0. 0. 0. 0. 0. 1. 0. 0.]\n",
            " [0. 0. 0. 0. 0. 0. 1. 0.]\n",
            " [0. 0. 0. 0. 0. 0. 0. 1.]]\n",
            "\n",
            "membuat matriks diagonal, dengan baris 3 colom 3\n",
            " [[1. 0. 0.]\n",
            " [0. 1. 0.]\n",
            " [0. 0. 1.]]\n"
          ],
          "name": "stdout"
        }
      ]
    },
    {
      "cell_type": "markdown",
      "metadata": {
        "id": "eKxUNR6T4hc6"
      },
      "source": [
        "##Vektor Dengan Nummpy Array"
      ]
    },
    {
      "cell_type": "code",
      "metadata": {
        "colab": {
          "base_uri": "https://localhost:8080/"
        },
        "id": "T_XxppuE4gLk",
        "outputId": "3f8feab3-a40a-48a8-b817-13e83994f670"
      },
      "source": [
        "X = np.array([1,2,4,5,7,8])\n",
        "print(X)\n",
        "\n",
        "Y = np.arange(1,24,4)\n",
        "print(Y) "
      ],
      "execution_count": 36,
      "outputs": [
        {
          "output_type": "stream",
          "text": [
            "[1 2 4 5 7 8]\n",
            "[ 1  5  9 13 17 21]\n"
          ],
          "name": "stdout"
        }
      ]
    },
    {
      "cell_type": "markdown",
      "metadata": {
        "id": "_xSt_6Yj6LMX"
      },
      "source": [
        "##Operasi Vektor"
      ]
    },
    {
      "cell_type": "code",
      "metadata": {
        "colab": {
          "base_uri": "https://localhost:8080/"
        },
        "id": "wQtlrqGf6R7x",
        "outputId": "490a5551-4c5b-45cc-9bcd-74bfd1f63e3d"
      },
      "source": [
        "# Penjumlahan\n",
        "X+Y"
      ],
      "execution_count": 37,
      "outputs": [
        {
          "output_type": "execute_result",
          "data": {
            "text/plain": [
              "array([ 2,  7, 13, 18, 24, 29])"
            ]
          },
          "metadata": {
            "tags": []
          },
          "execution_count": 37
        }
      ]
    },
    {
      "cell_type": "code",
      "metadata": {
        "colab": {
          "base_uri": "https://localhost:8080/"
        },
        "id": "mHIWO9yq6v7G",
        "outputId": "cce80a5f-fe57-479e-ec79-65f8dfa1efdc"
      },
      "source": [
        "# Pengurangan\n",
        "X-Y"
      ],
      "execution_count": 38,
      "outputs": [
        {
          "output_type": "execute_result",
          "data": {
            "text/plain": [
              "array([  0,  -3,  -5,  -8, -10, -13])"
            ]
          },
          "metadata": {
            "tags": []
          },
          "execution_count": 38
        }
      ]
    },
    {
      "cell_type": "code",
      "metadata": {
        "colab": {
          "base_uri": "https://localhost:8080/"
        },
        "id": "iUsJ-TBf63Kn",
        "outputId": "b452f29b-d00c-4341-9da0-20771ef62c40"
      },
      "source": [
        "# Perkalian skalar\n",
        "X*Y"
      ],
      "execution_count": 39,
      "outputs": [
        {
          "output_type": "execute_result",
          "data": {
            "text/plain": [
              "array([  1,  10,  36,  65, 119, 168])"
            ]
          },
          "metadata": {
            "tags": []
          },
          "execution_count": 39
        }
      ]
    },
    {
      "cell_type": "markdown",
      "metadata": {
        "id": "EYFvisJU69OB"
      },
      "source": [
        "##Matriks Dengan Numppy Array"
      ]
    },
    {
      "cell_type": "code",
      "metadata": {
        "colab": {
          "base_uri": "https://localhost:8080/"
        },
        "id": "YgqQsVUK7SWR",
        "outputId": "b9727e03-a7a8-4319-db47-1b7a34bfdab0"
      },
      "source": [
        "A = np.array([(1,2,3),(5,6,7),(9,10,11)])\n",
        "print(\"\\nMatriks A\\n\",A)\n",
        "\n",
        "B = np.array([(1,4,6),(2,4,7),(5,6,1)])\n",
        "print(\"\\nMatriks B\\n\",B)\n",
        "\n",
        "C = np.array([(1,2,3,4),(5,6,7,8),(9,10,11,12),(13,14,15,16)])\n",
        "print(\"\\nMatriks C\\n\",C)"
      ],
      "execution_count": 82,
      "outputs": [
        {
          "output_type": "stream",
          "text": [
            "\n",
            "Matriks A\n",
            " [[ 1  2  3]\n",
            " [ 5  6  7]\n",
            " [ 9 10 11]]\n",
            "\n",
            "Matriks B\n",
            " [[1 4 6]\n",
            " [2 4 7]\n",
            " [5 6 1]]\n",
            "\n",
            "Matriks C\n",
            " [[ 1  2  3  4]\n",
            " [ 5  6  7  8]\n",
            " [ 9 10 11 12]\n",
            " [13 14 15 16]]\n"
          ],
          "name": "stdout"
        }
      ]
    },
    {
      "cell_type": "markdown",
      "metadata": {
        "id": "nXjv_jTc8AJD"
      },
      "source": [
        "##Operasi Matriks"
      ]
    },
    {
      "cell_type": "code",
      "metadata": {
        "colab": {
          "base_uri": "https://localhost:8080/"
        },
        "id": "E8l8yQV37Cvr",
        "outputId": "02b081b1-0fef-40e1-b385-3a2f15587b38"
      },
      "source": [
        "# Penjumlahan\n",
        "np.add(A,B)"
      ],
      "execution_count": 72,
      "outputs": [
        {
          "output_type": "execute_result",
          "data": {
            "text/plain": [
              "array([[ 2,  6,  9],\n",
              "       [ 7, 10, 14],\n",
              "       [14, 16, 12]])"
            ]
          },
          "metadata": {
            "tags": []
          },
          "execution_count": 72
        }
      ]
    },
    {
      "cell_type": "code",
      "metadata": {
        "colab": {
          "base_uri": "https://localhost:8080/"
        },
        "id": "nRZE_qH-9PXK",
        "outputId": "be15d26d-729a-4810-99b4-fac04ca39496"
      },
      "source": [
        "# Pengurangan\n",
        "np.subtract(B,A)"
      ],
      "execution_count": 73,
      "outputs": [
        {
          "output_type": "execute_result",
          "data": {
            "text/plain": [
              "array([[  0,   2,   3],\n",
              "       [ -3,  -2,   0],\n",
              "       [ -4,  -4, -10]])"
            ]
          },
          "metadata": {
            "tags": []
          },
          "execution_count": 73
        }
      ]
    },
    {
      "cell_type": "code",
      "metadata": {
        "colab": {
          "base_uri": "https://localhost:8080/"
        },
        "id": "i561fPUW9UNo",
        "outputId": "b7c7dcfe-9388-4268-cdbc-8b0e4419b12d"
      },
      "source": [
        "# Perkalian Skalar\n",
        "7*B"
      ],
      "execution_count": 59,
      "outputs": [
        {
          "output_type": "execute_result",
          "data": {
            "text/plain": [
              "array([[ 7, 28, 42],\n",
              "       [14, 28, 49],\n",
              "       [35, 42,  7]])"
            ]
          },
          "metadata": {
            "tags": []
          },
          "execution_count": 59
        }
      ]
    },
    {
      "cell_type": "code",
      "metadata": {
        "colab": {
          "base_uri": "https://localhost:8080/"
        },
        "id": "NBr6AWnR9abf",
        "outputId": "0823e294-980f-4ce4-ee76-4e7be275a547"
      },
      "source": [
        "# Perkalian Matriks\n",
        "np.multiply(A,B)"
      ],
      "execution_count": 60,
      "outputs": [
        {
          "output_type": "execute_result",
          "data": {
            "text/plain": [
              "array([[ 1,  8, 18],\n",
              "       [10, 24, 49],\n",
              "       [45, 60, 11]])"
            ]
          },
          "metadata": {
            "tags": []
          },
          "execution_count": 60
        }
      ]
    },
    {
      "cell_type": "markdown",
      "metadata": {
        "id": "L5TRWn5s90SG"
      },
      "source": [
        "##Dot Product dan Cross Product"
      ]
    },
    {
      "cell_type": "code",
      "metadata": {
        "colab": {
          "base_uri": "https://localhost:8080/"
        },
        "id": "d6DQJggd-A3Q",
        "outputId": "4e539428-173a-48df-984d-653d76edb08e"
      },
      "source": [
        "# Dot Product\n",
        "np.dot(A,B)"
      ],
      "execution_count": 61,
      "outputs": [
        {
          "output_type": "execute_result",
          "data": {
            "text/plain": [
              "array([[ 20,  30,  23],\n",
              "       [ 52,  86,  79],\n",
              "       [ 84, 142, 135]])"
            ]
          },
          "metadata": {
            "tags": []
          },
          "execution_count": 61
        }
      ]
    },
    {
      "cell_type": "code",
      "metadata": {
        "colab": {
          "base_uri": "https://localhost:8080/"
        },
        "id": "uAR3efz4-Pv0",
        "outputId": "34e8c03c-7cc6-42a2-8934-5c467755e099"
      },
      "source": [
        "# Cross Product\n",
        "np.cross(A,B)"
      ],
      "execution_count": 56,
      "outputs": [
        {
          "output_type": "execute_result",
          "data": {
            "text/plain": [
              "array([[  0,  -3,   2],\n",
              "       [ 14, -21,   8],\n",
              "       [-56,  46,   4]])"
            ]
          },
          "metadata": {
            "tags": []
          },
          "execution_count": 56
        }
      ]
    },
    {
      "cell_type": "markdown",
      "metadata": {
        "id": "Gh8Fc1OpAvIe"
      },
      "source": [
        "## Aljabar Linier Dengan Numpy"
      ]
    },
    {
      "cell_type": "code",
      "metadata": {
        "colab": {
          "base_uri": "https://localhost:8080/"
        },
        "id": "SYqbjdWiAEux",
        "outputId": "d4a4753c-2e8d-42eb-e5ea-2570aba4670a"
      },
      "source": [
        "# Inverse\n",
        "invA = np.linalg.inv(A)\n",
        "print(invA,\"\\n\")\n",
        "\n",
        "invB = np.linalg.inv(B)\n",
        "print(invB)"
      ],
      "execution_count": 70,
      "outputs": [
        {
          "output_type": "stream",
          "text": [
            "[[ 5.62949953e+14 -1.12589991e+15  5.62949953e+14]\n",
            " [-1.12589991e+15  2.25179981e+15 -1.12589991e+15]\n",
            " [ 5.62949953e+14 -1.12589991e+15  5.62949953e+14]] \n",
            "\n",
            "[[-0.82608696  0.69565217  0.08695652]\n",
            " [ 0.7173913  -0.63043478  0.10869565]\n",
            " [-0.17391304  0.30434783 -0.08695652]]\n"
          ],
          "name": "stdout"
        }
      ]
    },
    {
      "cell_type": "code",
      "metadata": {
        "colab": {
          "base_uri": "https://localhost:8080/"
        },
        "id": "nCFKrQdNHBjT",
        "outputId": "a359410d-7ead-46fd-ec80-e927f11c902d"
      },
      "source": [
        "# Determinan\n",
        "detA = np.linalg.det(A)\n",
        "print(\"Determinan Matriks A = \",detA,\"\\n\")\n",
        "\n",
        "detB = np.linalg.det(B)\n",
        "print(\"Determinan Matriks B = \",detB)"
      ],
      "execution_count": 84,
      "outputs": [
        {
          "output_type": "stream",
          "text": [
            "Determinan Matriks A =  -7.105427357600985e-15 \n",
            "\n",
            "Determinan Matriks B =  46.0\n"
          ],
          "name": "stdout"
        }
      ]
    },
    {
      "cell_type": "code",
      "metadata": {
        "colab": {
          "base_uri": "https://localhost:8080/"
        },
        "id": "Z5JXX6tDH1YH",
        "outputId": "e269a134-8491-4590-8182-58d2c77042c5"
      },
      "source": [
        "#Mengambil Elemen Diagonal\n",
        "diaA = np.diag(A)\n",
        "print(diaA,\"\\n\")\n",
        "\n",
        "diaB = np.diag(B)\n",
        "print(diaB,\"\\n\")\n",
        "\n",
        "diaC = np.diag(C)\n",
        "print(diaC)"
      ],
      "execution_count": 85,
      "outputs": [
        {
          "output_type": "stream",
          "text": [
            "[ 1  6 11] \n",
            "\n",
            "[1 4 1] \n",
            "\n",
            "[ 1  6 11 16]\n"
          ],
          "name": "stdout"
        }
      ]
    },
    {
      "cell_type": "code",
      "metadata": {
        "colab": {
          "base_uri": "https://localhost:8080/"
        },
        "id": "H4V8QhEjJWbx",
        "outputId": "ae085645-ef0b-478b-b396-dcecc02b105f"
      },
      "source": [
        "#Solve Persamaan Linier\n",
        "solve1 = np.linalg.solve(B,A)\n",
        "print(solve1,\"\\n\")\n",
        "\n",
        "solve2 = np.dot(invB,A)\n",
        "print(solve2,\"\\n\")\n",
        "\n",
        "solve3 = np.linalg.solve(A,B)\n",
        "print(solve3,\"\\n\")\n",
        "\n",
        "solve4 = np.dot(invA,B)\n",
        "print(solve4)"
      ],
      "execution_count": 91,
      "outputs": [
        {
          "output_type": "stream",
          "text": [
            "[[ 3.43478261  3.39130435  3.34782609]\n",
            " [-1.45652174 -1.26086957 -1.06521739]\n",
            " [ 0.56521739  0.60869565  0.65217391]] \n",
            "\n",
            "[[ 3.43478261  3.39130435  3.34782609]\n",
            " [-1.45652174 -1.26086957 -1.06521739]\n",
            " [ 0.56521739  0.60869565  0.65217391]] \n",
            "\n",
            "[[ 1.12589991e+15  1.12589991e+15 -3.94064967e+15]\n",
            " [-2.25179981e+15 -2.25179981e+15  7.88129935e+15]\n",
            " [ 1.12589991e+15  1.12589991e+15 -3.94064967e+15]] \n",
            "\n",
            "[[ 1.12589991e+15  1.12589991e+15 -3.94064967e+15]\n",
            " [-2.25179981e+15 -2.25179981e+15  7.88129935e+15]\n",
            " [ 1.12589991e+15  1.12589991e+15 -3.94064967e+15]]\n"
          ],
          "name": "stdout"
        }
      ]
    },
    {
      "cell_type": "markdown",
      "metadata": {
        "id": "XMxW7wn6MKyL"
      },
      "source": [
        "##Principal Component Analysis dengan Numpy"
      ]
    },
    {
      "cell_type": "code",
      "metadata": {
        "id": "rd9s1bT2K613"
      },
      "source": [
        "import matplotlib.pyplot as plt\n"
      ],
      "execution_count": 92,
      "outputs": []
    }
  ]
}