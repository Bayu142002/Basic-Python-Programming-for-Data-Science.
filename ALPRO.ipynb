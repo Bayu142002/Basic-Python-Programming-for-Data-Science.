{
  "nbformat": 4,
  "nbformat_minor": 0,
  "metadata": {
    "colab": {
      "name": "Untitled2.ipynb",
      "provenance": [],
      "authorship_tag": "ABX9TyOTchyf6NXmZE1pXwl1VzNY",
      "include_colab_link": true
    },
    "kernelspec": {
      "name": "python3",
      "display_name": "Python 3"
    },
    "language_info": {
      "name": "python"
    }
  },
  "cells": [
    {
      "cell_type": "markdown",
      "metadata": {
        "id": "view-in-github",
        "colab_type": "text"
      },
      "source": [
        "<a href=\"https://colab.research.google.com/github/Bayu142002/Basic-Python-Programming-for-Data-Science./blob/main/ALPRO.ipynb\" target=\"_parent\"><img src=\"https://colab.research.google.com/assets/colab-badge.svg\" alt=\"Open In Colab\"/></a>"
      ]
    },
    {
      "cell_type": "markdown",
      "metadata": {
        "id": "korWqz3Kq24e"
      },
      "source": [
        "#Nomor 1"
      ]
    },
    {
      "cell_type": "code",
      "metadata": {
        "colab": {
          "base_uri": "https://localhost:8080/"
        },
        "id": "cttmTOLtlRUi",
        "outputId": "7290b512-58ee-430e-ddf5-2b705761f8d8"
      },
      "source": [
        "import numpy as np\n",
        "array = []\n",
        "i = int(input(\"Elemen array: \"))\n",
        "for x in range(i):\n",
        "  data = float(input(\"{} = \".format(x+1)))\n",
        "  array.append(data)\n",
        "  x = data\n",
        "  if data > 0 :\n",
        "    print('{} Saldo deposit'.format(data))\n",
        "  elif data == 0:\n",
        "    print('{} Saldo zero'.format(data))\n",
        "  else:\n",
        "    print('{} Saldo withdraw'.format(data))\n",
        "print(\"\\nRata-rata saldo = {}\".format(sum(array)/i))"
      ],
      "execution_count": 37,
      "outputs": [
        {
          "output_type": "stream",
          "text": [
            "Elemen array: 5\n",
            "1 = 24.98\n",
            "24.98 Saldo deposit\n",
            "2 = 345.67\n",
            "345.67 Saldo deposit\n",
            "3 = 0.00\n",
            "0.0 Saldo zero\n",
            "4 = -42.16\n",
            "-42.16 Saldo withdraw\n",
            "5 = 224.62\n",
            "224.62 Saldo deposit\n",
            "\n",
            "Rata-rata saldo = 110.622\n"
          ],
          "name": "stdout"
        }
      ]
    },
    {
      "cell_type": "markdown",
      "metadata": {
        "id": "KlCcBC5cqyvY"
      },
      "source": [
        "#Nomor 2"
      ]
    },
    {
      "cell_type": "code",
      "metadata": {
        "colab": {
          "base_uri": "https://localhost:8080/"
        },
        "id": "2HRXpd3Tcjeu",
        "outputId": "1fee3a2b-64d1-4d7f-fcc9-9e27239a1239"
      },
      "source": [
        "Grademhs = [[77,68,86,73],[96,87,89,78],[70,90,86,81]]\n",
        "for i in Grademhs:\n",
        "  print()\n",
        "  print(\"Grademhs\\t\", end = \" \")\n",
        "  for j in i:\n",
        "    print(j, end=\" \")"
      ],
      "execution_count": 35,
      "outputs": [
        {
          "output_type": "stream",
          "text": [
            "\n",
            "Grademhs\t 77 68 86 73 \n",
            "Grademhs\t 96 87 89 78 \n",
            "Grademhs\t 70 90 86 81 "
          ],
          "name": "stdout"
        }
      ]
    }
  ]
}