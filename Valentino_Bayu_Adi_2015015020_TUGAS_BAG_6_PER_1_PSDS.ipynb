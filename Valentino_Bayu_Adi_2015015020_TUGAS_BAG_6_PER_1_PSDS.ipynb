{
  "nbformat": 4,
  "nbformat_minor": 0,
  "metadata": {
    "colab": {
      "name": "Valentino_Bayu_Adi_2015015020_TUGAS_BAG_6_PER_1_PSDS.ipynb",
      "provenance": [],
      "include_colab_link": true
    },
    "kernelspec": {
      "name": "python3",
      "display_name": "Python 3"
    },
    "language_info": {
      "name": "python"
    }
  },
  "cells": [
    {
      "cell_type": "markdown",
      "metadata": {
        "id": "view-in-github",
        "colab_type": "text"
      },
      "source": [
        "<a href=\"https://colab.research.google.com/github/Bayu142002/Basic-Python-Programming-for-Data-Science./blob/main/Valentino_Bayu_Adi_2015015020_TUGAS_BAG_6_PER_1_PSDS.ipynb\" target=\"_parent\"><img src=\"https://colab.research.google.com/assets/colab-badge.svg\" alt=\"Open In Colab\"/></a>"
      ]
    },
    {
      "cell_type": "markdown",
      "metadata": {
        "id": "RSWn5DNr4tMD"
      },
      "source": [
        "## Membuat Array Menggunakan Numpy\n"
      ]
    },
    {
      "cell_type": "code",
      "metadata": {
        "colab": {
          "base_uri": "https://localhost:8080/"
        },
        "id": "4LX9QdIsuXOM",
        "outputId": "dd0b0eba-6e67-44a1-8fdf-67b3a525edeb"
      },
      "source": [
        "import numpy as np\n",
        "\n",
        "# Vector\n",
        "x = np.array([2,3,5,7,9,11])\n",
        "print(\"\\nvektor bilangan prima\\n\",x)\n",
        "y = np.arange(1,24,3)\n",
        "print(\"\\nvektor 1 sampai 20 dengan beda 3\\n\",y)\n",
        "\n",
        "# Linspace\n",
        "z = np.linspace(1,10,15)\n",
        "print(\"\\nmembuat linspace\\n\",z)\n",
        "\n",
        "# Matrik\n",
        "a = np.array([(1,3,5),(2,4,6),(1,5,9)])\n",
        "print(\"\\nmatriks biasa dengan 3 baris dan 3 colom\\n\",a)\n",
        "b = np.zeros((3,2))\n",
        "print(\"\\nmembuat matriks 3 baris 2 colom yang semua elemennya 0\\n\",b)\n",
        "c = np.ones((4,5))\n",
        "print(\"\\nmembuat matriks 4 baris 5 colom yang semua elemennya 1\\n\",c)\n",
        "d = np.identity(8)\n",
        "print(\"\\nmembuat matriks diagonal, dengan baris 8 colom 8\\n\",d)\n",
        "e = np.eye(3)\n",
        "print(\"\\nmembuat matriks diagonal, dengan baris 3 colom 3\\n\",e)"
      ],
      "execution_count": null,
      "outputs": [
        {
          "output_type": "stream",
          "text": [
            "\n",
            "vektor bilangan prima\n",
            " [ 2  3  5  7  9 11]\n",
            "\n",
            "vektor 1 sampai 20 dengan beda 3\n",
            " [ 1  4  7 10 13 16 19 22]\n",
            "\n",
            "membuat linspace\n",
            " [ 1.          1.64285714  2.28571429  2.92857143  3.57142857  4.21428571\n",
            "  4.85714286  5.5         6.14285714  6.78571429  7.42857143  8.07142857\n",
            "  8.71428571  9.35714286 10.        ]\n",
            "\n",
            "matriks biasa dengan 3 baris dan 3 colom\n",
            " [[1 3 5]\n",
            " [2 4 6]\n",
            " [1 5 9]]\n",
            "\n",
            "membuat matriks 3 baris 2 colom yang semua elemennya 0\n",
            " [[0. 0.]\n",
            " [0. 0.]\n",
            " [0. 0.]]\n",
            "\n",
            "membuat matriks 4 baris 5 colom yang semua elemennya 1\n",
            " [[1. 1. 1. 1. 1.]\n",
            " [1. 1. 1. 1. 1.]\n",
            " [1. 1. 1. 1. 1.]\n",
            " [1. 1. 1. 1. 1.]]\n",
            "\n",
            "membuat matriks diagonal, dengan baris 8 colom 8\n",
            " [[1. 0. 0. 0. 0. 0. 0. 0.]\n",
            " [0. 1. 0. 0. 0. 0. 0. 0.]\n",
            " [0. 0. 1. 0. 0. 0. 0. 0.]\n",
            " [0. 0. 0. 1. 0. 0. 0. 0.]\n",
            " [0. 0. 0. 0. 1. 0. 0. 0.]\n",
            " [0. 0. 0. 0. 0. 1. 0. 0.]\n",
            " [0. 0. 0. 0. 0. 0. 1. 0.]\n",
            " [0. 0. 0. 0. 0. 0. 0. 1.]]\n",
            "\n",
            "membuat matriks diagonal, dengan baris 3 colom 3\n",
            " [[1. 0. 0.]\n",
            " [0. 1. 0.]\n",
            " [0. 0. 1.]]\n"
          ],
          "name": "stdout"
        }
      ]
    },
    {
      "cell_type": "markdown",
      "metadata": {
        "id": "eKxUNR6T4hc6"
      },
      "source": [
        "##Vektor Dengan Nummpy Array"
      ]
    },
    {
      "cell_type": "code",
      "metadata": {
        "colab": {
          "base_uri": "https://localhost:8080/"
        },
        "id": "T_XxppuE4gLk",
        "outputId": "3f8feab3-a40a-48a8-b817-13e83994f670"
      },
      "source": [
        "X = np.array([1,2,4,5,7,8])\n",
        "print(X)\n",
        "\n",
        "Y = np.arange(1,24,4)\n",
        "print(Y) "
      ],
      "execution_count": null,
      "outputs": [
        {
          "output_type": "stream",
          "text": [
            "[1 2 4 5 7 8]\n",
            "[ 1  5  9 13 17 21]\n"
          ],
          "name": "stdout"
        }
      ]
    },
    {
      "cell_type": "markdown",
      "metadata": {
        "id": "_xSt_6Yj6LMX"
      },
      "source": [
        "##Operasi Vektor"
      ]
    },
    {
      "cell_type": "code",
      "metadata": {
        "colab": {
          "base_uri": "https://localhost:8080/"
        },
        "id": "wQtlrqGf6R7x",
        "outputId": "490a5551-4c5b-45cc-9bcd-74bfd1f63e3d"
      },
      "source": [
        "# Penjumlahan\n",
        "X+Y"
      ],
      "execution_count": null,
      "outputs": [
        {
          "output_type": "execute_result",
          "data": {
            "text/plain": [
              "array([ 2,  7, 13, 18, 24, 29])"
            ]
          },
          "metadata": {
            "tags": []
          },
          "execution_count": 37
        }
      ]
    },
    {
      "cell_type": "code",
      "metadata": {
        "colab": {
          "base_uri": "https://localhost:8080/"
        },
        "id": "mHIWO9yq6v7G",
        "outputId": "cce80a5f-fe57-479e-ec79-65f8dfa1efdc"
      },
      "source": [
        "# Pengurangan\n",
        "X-Y"
      ],
      "execution_count": null,
      "outputs": [
        {
          "output_type": "execute_result",
          "data": {
            "text/plain": [
              "array([  0,  -3,  -5,  -8, -10, -13])"
            ]
          },
          "metadata": {
            "tags": []
          },
          "execution_count": 38
        }
      ]
    },
    {
      "cell_type": "code",
      "metadata": {
        "colab": {
          "base_uri": "https://localhost:8080/"
        },
        "id": "iUsJ-TBf63Kn",
        "outputId": "b452f29b-d00c-4341-9da0-20771ef62c40"
      },
      "source": [
        "# Perkalian skalar\n",
        "X*Y"
      ],
      "execution_count": null,
      "outputs": [
        {
          "output_type": "execute_result",
          "data": {
            "text/plain": [
              "array([  1,  10,  36,  65, 119, 168])"
            ]
          },
          "metadata": {
            "tags": []
          },
          "execution_count": 39
        }
      ]
    },
    {
      "cell_type": "markdown",
      "metadata": {
        "id": "EYFvisJU69OB"
      },
      "source": [
        "##Matriks Dengan Numppy Array"
      ]
    },
    {
      "cell_type": "code",
      "metadata": {
        "colab": {
          "base_uri": "https://localhost:8080/"
        },
        "id": "YgqQsVUK7SWR",
        "outputId": "b9727e03-a7a8-4319-db47-1b7a34bfdab0"
      },
      "source": [
        "A = np.array([(1,2,3),(5,6,7),(9,10,11)])\n",
        "print(\"\\nMatriks A\\n\",A)\n",
        "\n",
        "B = np.array([(1,4,6),(2,4,7),(5,6,1)])\n",
        "print(\"\\nMatriks B\\n\",B)\n",
        "\n",
        "C = np.array([(1,2,3,4),(5,6,7,8),(9,10,11,12),(13,14,15,16)])\n",
        "print(\"\\nMatriks C\\n\",C)"
      ],
      "execution_count": null,
      "outputs": [
        {
          "output_type": "stream",
          "text": [
            "\n",
            "Matriks A\n",
            " [[ 1  2  3]\n",
            " [ 5  6  7]\n",
            " [ 9 10 11]]\n",
            "\n",
            "Matriks B\n",
            " [[1 4 6]\n",
            " [2 4 7]\n",
            " [5 6 1]]\n",
            "\n",
            "Matriks C\n",
            " [[ 1  2  3  4]\n",
            " [ 5  6  7  8]\n",
            " [ 9 10 11 12]\n",
            " [13 14 15 16]]\n"
          ],
          "name": "stdout"
        }
      ]
    },
    {
      "cell_type": "markdown",
      "metadata": {
        "id": "nXjv_jTc8AJD"
      },
      "source": [
        "##Operasi Matriks"
      ]
    },
    {
      "cell_type": "code",
      "metadata": {
        "colab": {
          "base_uri": "https://localhost:8080/"
        },
        "id": "E8l8yQV37Cvr",
        "outputId": "02b081b1-0fef-40e1-b385-3a2f15587b38"
      },
      "source": [
        "# Penjumlahan\n",
        "np.add(A,B)"
      ],
      "execution_count": null,
      "outputs": [
        {
          "output_type": "execute_result",
          "data": {
            "text/plain": [
              "array([[ 2,  6,  9],\n",
              "       [ 7, 10, 14],\n",
              "       [14, 16, 12]])"
            ]
          },
          "metadata": {
            "tags": []
          },
          "execution_count": 72
        }
      ]
    },
    {
      "cell_type": "code",
      "metadata": {
        "colab": {
          "base_uri": "https://localhost:8080/"
        },
        "id": "nRZE_qH-9PXK",
        "outputId": "be15d26d-729a-4810-99b4-fac04ca39496"
      },
      "source": [
        "# Pengurangan\n",
        "np.subtract(B,A)"
      ],
      "execution_count": null,
      "outputs": [
        {
          "output_type": "execute_result",
          "data": {
            "text/plain": [
              "array([[  0,   2,   3],\n",
              "       [ -3,  -2,   0],\n",
              "       [ -4,  -4, -10]])"
            ]
          },
          "metadata": {
            "tags": []
          },
          "execution_count": 73
        }
      ]
    },
    {
      "cell_type": "code",
      "metadata": {
        "colab": {
          "base_uri": "https://localhost:8080/"
        },
        "id": "i561fPUW9UNo",
        "outputId": "b7c7dcfe-9388-4268-cdbc-8b0e4419b12d"
      },
      "source": [
        "# Perkalian Skalar\n",
        "7*B"
      ],
      "execution_count": null,
      "outputs": [
        {
          "output_type": "execute_result",
          "data": {
            "text/plain": [
              "array([[ 7, 28, 42],\n",
              "       [14, 28, 49],\n",
              "       [35, 42,  7]])"
            ]
          },
          "metadata": {
            "tags": []
          },
          "execution_count": 59
        }
      ]
    },
    {
      "cell_type": "code",
      "metadata": {
        "colab": {
          "base_uri": "https://localhost:8080/"
        },
        "id": "NBr6AWnR9abf",
        "outputId": "0823e294-980f-4ce4-ee76-4e7be275a547"
      },
      "source": [
        "# Perkalian Matriks\n",
        "np.multiply(A,B)"
      ],
      "execution_count": null,
      "outputs": [
        {
          "output_type": "execute_result",
          "data": {
            "text/plain": [
              "array([[ 1,  8, 18],\n",
              "       [10, 24, 49],\n",
              "       [45, 60, 11]])"
            ]
          },
          "metadata": {
            "tags": []
          },
          "execution_count": 60
        }
      ]
    },
    {
      "cell_type": "markdown",
      "metadata": {
        "id": "L5TRWn5s90SG"
      },
      "source": [
        "##Dot Product dan Cross Product"
      ]
    },
    {
      "cell_type": "code",
      "metadata": {
        "colab": {
          "base_uri": "https://localhost:8080/"
        },
        "id": "d6DQJggd-A3Q",
        "outputId": "4e539428-173a-48df-984d-653d76edb08e"
      },
      "source": [
        "# Dot Product\n",
        "np.dot(A,B)"
      ],
      "execution_count": null,
      "outputs": [
        {
          "output_type": "execute_result",
          "data": {
            "text/plain": [
              "array([[ 20,  30,  23],\n",
              "       [ 52,  86,  79],\n",
              "       [ 84, 142, 135]])"
            ]
          },
          "metadata": {
            "tags": []
          },
          "execution_count": 61
        }
      ]
    },
    {
      "cell_type": "code",
      "metadata": {
        "colab": {
          "base_uri": "https://localhost:8080/"
        },
        "id": "uAR3efz4-Pv0",
        "outputId": "34e8c03c-7cc6-42a2-8934-5c467755e099"
      },
      "source": [
        "# Cross Product\n",
        "np.cross(A,B)"
      ],
      "execution_count": null,
      "outputs": [
        {
          "output_type": "execute_result",
          "data": {
            "text/plain": [
              "array([[  0,  -3,   2],\n",
              "       [ 14, -21,   8],\n",
              "       [-56,  46,   4]])"
            ]
          },
          "metadata": {
            "tags": []
          },
          "execution_count": 56
        }
      ]
    },
    {
      "cell_type": "markdown",
      "metadata": {
        "id": "Gh8Fc1OpAvIe"
      },
      "source": [
        "## Aljabar Linier Dengan Numpy"
      ]
    },
    {
      "cell_type": "code",
      "metadata": {
        "colab": {
          "base_uri": "https://localhost:8080/"
        },
        "id": "SYqbjdWiAEux",
        "outputId": "d4a4753c-2e8d-42eb-e5ea-2570aba4670a"
      },
      "source": [
        "# Inverse\n",
        "invA = np.linalg.inv(A)\n",
        "print(invA,\"\\n\")\n",
        "\n",
        "invB = np.linalg.inv(B)\n",
        "print(invB)"
      ],
      "execution_count": null,
      "outputs": [
        {
          "output_type": "stream",
          "text": [
            "[[ 5.62949953e+14 -1.12589991e+15  5.62949953e+14]\n",
            " [-1.12589991e+15  2.25179981e+15 -1.12589991e+15]\n",
            " [ 5.62949953e+14 -1.12589991e+15  5.62949953e+14]] \n",
            "\n",
            "[[-0.82608696  0.69565217  0.08695652]\n",
            " [ 0.7173913  -0.63043478  0.10869565]\n",
            " [-0.17391304  0.30434783 -0.08695652]]\n"
          ],
          "name": "stdout"
        }
      ]
    },
    {
      "cell_type": "code",
      "metadata": {
        "colab": {
          "base_uri": "https://localhost:8080/"
        },
        "id": "nCFKrQdNHBjT",
        "outputId": "a359410d-7ead-46fd-ec80-e927f11c902d"
      },
      "source": [
        "# Determinan\n",
        "detA = np.linalg.det(A)\n",
        "print(\"Determinan Matriks A = \",detA,\"\\n\")\n",
        "\n",
        "detB = np.linalg.det(B)\n",
        "print(\"Determinan Matriks B = \",detB)"
      ],
      "execution_count": null,
      "outputs": [
        {
          "output_type": "stream",
          "text": [
            "Determinan Matriks A =  -7.105427357600985e-15 \n",
            "\n",
            "Determinan Matriks B =  46.0\n"
          ],
          "name": "stdout"
        }
      ]
    },
    {
      "cell_type": "code",
      "metadata": {
        "colab": {
          "base_uri": "https://localhost:8080/"
        },
        "id": "Z5JXX6tDH1YH",
        "outputId": "e269a134-8491-4590-8182-58d2c77042c5"
      },
      "source": [
        "#Mengambil Elemen Diagonal\n",
        "diaA = np.diag(A)\n",
        "print(diaA,\"\\n\")\n",
        "\n",
        "diaB = np.diag(B)\n",
        "print(diaB,\"\\n\")\n",
        "\n",
        "diaC = np.diag(C)\n",
        "print(diaC)"
      ],
      "execution_count": null,
      "outputs": [
        {
          "output_type": "stream",
          "text": [
            "[ 1  6 11] \n",
            "\n",
            "[1 4 1] \n",
            "\n",
            "[ 1  6 11 16]\n"
          ],
          "name": "stdout"
        }
      ]
    },
    {
      "cell_type": "code",
      "metadata": {
        "colab": {
          "base_uri": "https://localhost:8080/"
        },
        "id": "H4V8QhEjJWbx",
        "outputId": "ae085645-ef0b-478b-b396-dcecc02b105f"
      },
      "source": [
        "#Solve Persamaan Linier\n",
        "solve1 = np.linalg.solve(B,A)\n",
        "print(solve1,\"\\n\")\n",
        "\n",
        "solve2 = np.dot(invB,A)\n",
        "print(solve2,\"\\n\")\n",
        "\n",
        "solve3 = np.linalg.solve(A,B)\n",
        "print(solve3,\"\\n\")\n",
        "\n",
        "solve4 = np.dot(invA,B)\n",
        "print(solve4)"
      ],
      "execution_count": null,
      "outputs": [
        {
          "output_type": "stream",
          "text": [
            "[[ 3.43478261  3.39130435  3.34782609]\n",
            " [-1.45652174 -1.26086957 -1.06521739]\n",
            " [ 0.56521739  0.60869565  0.65217391]] \n",
            "\n",
            "[[ 3.43478261  3.39130435  3.34782609]\n",
            " [-1.45652174 -1.26086957 -1.06521739]\n",
            " [ 0.56521739  0.60869565  0.65217391]] \n",
            "\n",
            "[[ 1.12589991e+15  1.12589991e+15 -3.94064967e+15]\n",
            " [-2.25179981e+15 -2.25179981e+15  7.88129935e+15]\n",
            " [ 1.12589991e+15  1.12589991e+15 -3.94064967e+15]] \n",
            "\n",
            "[[ 1.12589991e+15  1.12589991e+15 -3.94064967e+15]\n",
            " [-2.25179981e+15 -2.25179981e+15  7.88129935e+15]\n",
            " [ 1.12589991e+15  1.12589991e+15 -3.94064967e+15]]\n"
          ],
          "name": "stdout"
        }
      ]
    },
    {
      "cell_type": "markdown",
      "metadata": {
        "id": "XMxW7wn6MKyL"
      },
      "source": [
        "##Principal Component Analysis dengan Numpy"
      ]
    },
    {
      "cell_type": "code",
      "metadata": {
        "id": "qKU_LuOIkiHB",
        "colab": {
          "base_uri": "https://localhost:8080/"
        },
        "outputId": "3384744a-1222-48d1-d71a-2ad2502f5db2"
      },
      "source": [
        "#Memusatkan data dengan mengurangi mean, disini saya pakai vektor \"x\"\n",
        "mean_x = np.mean(x, axis = 0)\n",
        "x_pusat = x - mean_x\n",
        "print(x_pusat)\n",
        "#Menghitung matriks covarians dari data terpusat\n",
        "x_cov = np.cov(x_pusat.T)\n",
        "print(y_cov)\n",
        "#Dekomposisi eign dari matriks covarians, dengan eignvector dan eignvalue\n",
        "eigenvalues , eigenvectors = np.linalg.eigh(x_cov)\n",
        "\n",
        "#Mengurutkan eigenvektor dan eigenvalue untuk memastikan komponen utama menjelaskan\n",
        "#varian terbanyak adalah komponen utama\n",
        "i = np.argsort(eigenvalues)[::-1]\n",
        "eigenvalues = eigenvalues[i]\n",
        "print(eigenvalues)\n",
        "eigenvectors = eigenvectors[:,i]\n",
        "print(eigenvectors)\n",
        "\n",
        "#Pilih subset dari matriks eigenvalue yang disusun ulang\n",
        "komponen_n = 2\n",
        "eigenvectors_subset = eigenvectors[:,0:komponen_n]\n",
        "print(eigenvectors_subset)\n",
        "\n",
        "#Transform data\n",
        "x_reduced = np.dot(eigenvectors_subset.transpose(), x_pusat.transpose()).transpose()\n",
        "print(x_reduced)\n",
        "\n",
        "# Definisikan \n",
        "def PCA(x, num_component):\n",
        "  #1\n",
        "  mean_x = np.mean(x, axis = 0)\n",
        "  x_pusat = x - mean_x\n",
        "  print(x_pusat)\n",
        "  #2\n",
        "  x_cov = np.cov(x_pusat.T)\n",
        "  print(x_cov)\n",
        "  #3\n",
        "  eigenvalues , eigenvectors = np.linalg.eigh(x_cov)\n",
        "  #4\n",
        "  i = np.argsort(eigenvalues)[::-1]\n",
        "  eigenvalues = eigenvalues[i]\n",
        "  print(eigenvalues)\n",
        "  eigenvectors = eigenvectors[:,i]\n",
        "  print(eigenvectors)\n",
        "  #5\n",
        "  komponen_n = 2\n",
        "  eigenvectors_subset = eigenvectors[:,0:komponen_n]\n",
        "  print(eigenvectors_subset)\n",
        "  #6\n",
        "  x_reduced = np.dot(eigenvectors_subset.transpose(), x_pusat.transpose()).transpose()\n",
        "  print(x_reduced)\n",
        "  return (x_reduced)\n"
      ],
      "execution_count": null,
      "outputs": [
        {
          "output_type": "stream",
          "text": [
            "     sepal length  sepal width  petal length  petal width\n",
            "0       -0.743333        0.446     -2.358667    -0.998667\n",
            "1       -0.943333       -0.054     -2.358667    -0.998667\n",
            "2       -1.143333        0.146     -2.458667    -0.998667\n",
            "3       -1.243333        0.046     -2.258667    -0.998667\n",
            "4       -0.843333        0.546     -2.358667    -0.998667\n",
            "..            ...          ...           ...          ...\n",
            "145      0.856667       -0.054      1.441333     1.101333\n",
            "146      0.456667       -0.554      1.241333     0.701333\n",
            "147      0.656667       -0.054      1.441333     0.801333\n",
            "148      0.356667        0.346      1.641333     1.101333\n",
            "149      0.056667       -0.054      1.341333     0.601333\n",
            "\n",
            "[150 rows x 4 columns]\n",
            "[[60. 60.]\n",
            " [60. 60.]]\n",
            "[4.22484077 0.24224357 0.07852391 0.02368303]\n",
            "[[-0.36158968  0.65653988  0.58099728  0.31725455]\n",
            " [ 0.08226889  0.72971237 -0.59641809 -0.32409435]\n",
            " [-0.85657211 -0.1757674  -0.07252408 -0.47971899]\n",
            " [-0.35884393 -0.07470647 -0.54906091  0.75112056]]\n",
            "[[-0.36158968  0.65653988]\n",
            " [ 0.08226889  0.72971237]\n",
            " [-0.85657211 -0.1757674 ]\n",
            " [-0.35884393 -0.07470647]]\n",
            "[[ 2.68420713  0.32660731]\n",
            " [ 2.71539062 -0.16955685]\n",
            " [ 2.88981954 -0.13734561]\n",
            " [ 2.7464372  -0.31112432]\n",
            " [ 2.72859298  0.33392456]\n",
            " [ 2.27989736  0.74778271]\n",
            " [ 2.82089068 -0.08210451]\n",
            " [ 2.62648199  0.17040535]\n",
            " [ 2.88795857 -0.57079803]\n",
            " [ 2.67384469 -0.1066917 ]\n",
            " [ 2.50652679  0.65193501]\n",
            " [ 2.61314272  0.02152063]\n",
            " [ 2.78743398 -0.22774019]\n",
            " [ 3.22520045 -0.50327991]\n",
            " [ 2.64354322  1.1861949 ]\n",
            " [ 2.38386932  1.34475434]\n",
            " [ 2.6225262   0.81808967]\n",
            " [ 2.64832273  0.31913667]\n",
            " [ 2.19907796  0.87924409]\n",
            " [ 2.58734619  0.52047364]\n",
            " [ 2.3105317   0.39786782]\n",
            " [ 2.54323491  0.44003175]\n",
            " [ 3.21585769  0.14161557]\n",
            " [ 2.30312854  0.10552268]\n",
            " [ 2.35617109 -0.03120959]\n",
            " [ 2.50791723 -0.13905634]\n",
            " [ 2.469056    0.13788731]\n",
            " [ 2.56239095  0.37468456]\n",
            " [ 2.63982127  0.31929007]\n",
            " [ 2.63284791 -0.19007583]\n",
            " [ 2.58846205 -0.19739308]\n",
            " [ 2.41007734  0.41808001]\n",
            " [ 2.64763667  0.81998263]\n",
            " [ 2.59715948  1.10002193]\n",
            " [ 2.67384469 -0.1066917 ]\n",
            " [ 2.86699985  0.0771931 ]\n",
            " [ 2.62522846  0.60680001]\n",
            " [ 2.67384469 -0.1066917 ]\n",
            " [ 2.98184266 -0.48025005]\n",
            " [ 2.59032303  0.23605934]\n",
            " [ 2.77013891  0.27105942]\n",
            " [ 2.85221108 -0.93286537]\n",
            " [ 2.99829644 -0.33430757]\n",
            " [ 2.4055141   0.19591726]\n",
            " [ 2.20883295  0.44269603]\n",
            " [ 2.71566519 -0.24268148]\n",
            " [ 2.53757337  0.51036755]\n",
            " [ 2.8403213  -0.22057634]\n",
            " [ 2.54268576  0.58628103]\n",
            " [ 2.70391231  0.11501085]\n",
            " [-1.28479459  0.68543919]\n",
            " [-0.93241075  0.31919809]\n",
            " [-1.46406132  0.50418983]\n",
            " [-0.18096721 -0.82560394]\n",
            " [-1.08713449  0.07539039]\n",
            " [-0.64043675 -0.41732348]\n",
            " [-1.09522371  0.28389121]\n",
            " [ 0.75146714 -1.00110751]\n",
            " [-1.04329778  0.22895691]\n",
            " [ 0.01019007 -0.72057487]\n",
            " [ 0.5110862  -1.26249195]\n",
            " [-0.51109806 -0.10228411]\n",
            " [-0.26233576 -0.5478933 ]\n",
            " [-0.98404455 -0.12436042]\n",
            " [ 0.174864   -0.25181557]\n",
            " [-0.92757294  0.46823621]\n",
            " [-0.65959279 -0.35197629]\n",
            " [-0.23454059 -0.33192183]\n",
            " [-0.94236171 -0.54182226]\n",
            " [-0.0432464  -0.58148945]\n",
            " [-1.11624072 -0.08421401]\n",
            " [-0.35678657 -0.06682383]\n",
            " [-1.29646885 -0.32756152]\n",
            " [-0.92050265 -0.18239036]\n",
            " [-0.71400821  0.15037915]\n",
            " [-0.89964086  0.32961098]\n",
            " [-1.33104142  0.24466952]\n",
            " [-1.55739627  0.26739258]\n",
            " [-0.81245555 -0.16233157]\n",
            " [ 0.30733476 -0.36508661]\n",
            " [ 0.07034289 -0.70253793]\n",
            " [ 0.19188449 -0.67749054]\n",
            " [-0.13499495 -0.31170964]\n",
            " [-1.37873698 -0.42120514]\n",
            " [-0.58727485 -0.48328427]\n",
            " [-0.8072055   0.19505396]\n",
            " [-1.22042897  0.40803534]\n",
            " [-0.81286779 -0.370679  ]\n",
            " [-0.24519516 -0.26672804]\n",
            " [-0.16451343 -0.67966147]\n",
            " [-0.46303099 -0.66952655]\n",
            " [-0.89016045 -0.03381244]\n",
            " [-0.22887905 -0.40225762]\n",
            " [ 0.70708128 -1.00842476]\n",
            " [-0.35553304 -0.50321849]\n",
            " [-0.33112695 -0.21118014]\n",
            " [-0.37523823 -0.29162202]\n",
            " [-0.64169028  0.01907118]\n",
            " [ 0.90846333 -0.75156873]\n",
            " [-0.29780791 -0.34701652]\n",
            " [-2.53172698 -0.01184224]\n",
            " [-1.41407223 -0.57492506]\n",
            " [-2.61648461  0.34193529]\n",
            " [-1.97081495 -0.18112569]\n",
            " [-2.34975798 -0.04188255]\n",
            " [-3.39687992  0.54716805]\n",
            " [-0.51938325 -1.19135169]\n",
            " [-2.9320051   0.35237701]\n",
            " [-2.31967279 -0.24554817]\n",
            " [-2.91813423  0.78038063]\n",
            " [-1.66193495  0.2420384 ]\n",
            " [-1.80234045 -0.21615461]\n",
            " [-2.16537886  0.21528028]\n",
            " [-1.34459422 -0.77641543]\n",
            " [-1.5852673  -0.53930705]\n",
            " [-1.90474358  0.11881899]\n",
            " [-1.94924878  0.04073026]\n",
            " [-3.48876538  1.17154454]\n",
            " [-3.79468686  0.25326557]\n",
            " [-1.29832982 -0.76101394]\n",
            " [-2.42816726  0.37678197]\n",
            " [-1.19809737 -0.60557896]\n",
            " [-3.49926548  0.45677347]\n",
            " [-1.38766825 -0.20403099]\n",
            " [-2.27585365  0.33338653]\n",
            " [-2.61419383  0.55836695]\n",
            " [-1.25762518 -0.179137  ]\n",
            " [-1.29066965 -0.11642525]\n",
            " [-2.12285398 -0.21085488]\n",
            " [-2.3875644   0.46251925]\n",
            " [-2.84096093  0.37274259]\n",
            " [-3.2323429   1.37052404]\n",
            " [-2.15873837 -0.21832553]\n",
            " [-1.4431026  -0.14380129]\n",
            " [-1.77964011 -0.50146479]\n",
            " [-3.07652162  0.68576444]\n",
            " [-2.14498686  0.13890661]\n",
            " [-1.90486293  0.04804751]\n",
            " [-1.16885347 -0.1645025 ]\n",
            " [-2.10765373  0.37148225]\n",
            " [-2.31430339  0.18260885]\n",
            " [-1.92245088  0.40927118]\n",
            " [-1.41407223 -0.57492506]\n",
            " [-2.56332271  0.2759745 ]\n",
            " [-2.41939122  0.30350394]\n",
            " [-1.94401705  0.18741522]\n",
            " [-1.52566363 -0.37502085]\n",
            " [-1.76404594  0.07851919]\n",
            " [-1.90162908  0.11587675]\n",
            " [-1.38966613 -0.28288671]]\n"
          ],
          "name": "stdout"
        }
      ]
    },
    {
      "cell_type": "code",
      "metadata": {
        "id": "1NUovatlxk4O",
        "colab": {
          "base_uri": "https://localhost:8080/"
        },
        "outputId": "10d1b532-1e88-4ad0-a04a-6f0cb42246a7"
      },
      "source": [
        "import pandas as pd\n",
        "#Dapatkan kumpulan data iris\n",
        "http = \"https://archive.ics.uci.edu/ml/machine-learning-databases/iris/iris.data\"\n",
        "data = pd.read_csv(url, names=['sepal length','sepal width','petal length','petal width','target'])\n",
        " \n",
        "#siapkan data\n",
        "x = data.iloc[:,0:4]\n",
        " \n",
        "#siapkan target\n",
        "target = data.iloc[:,4]\n",
        " \n",
        "#terapkan fungsinya\n",
        "fungsi = PCA(x,2)\n",
        " \n",
        "#Membuat Dataframe\n",
        "df = pd.DataFrame(fungsi , columns = ['PC1','PC2'])\n",
        " \n",
        "#Gabungkan dengan variabel target\n",
        "df = pd.concat([df , pd.DataFrame(target)] , axis = 1)"
      ],
      "execution_count": null,
      "outputs": [
        {
          "output_type": "stream",
          "text": [
            "     sepal length  sepal width  petal length  petal width\n",
            "0       -0.743333        0.446     -2.358667    -0.998667\n",
            "1       -0.943333       -0.054     -2.358667    -0.998667\n",
            "2       -1.143333        0.146     -2.458667    -0.998667\n",
            "3       -1.243333        0.046     -2.258667    -0.998667\n",
            "4       -0.843333        0.546     -2.358667    -0.998667\n",
            "..            ...          ...           ...          ...\n",
            "145      0.856667       -0.054      1.441333     1.101333\n",
            "146      0.456667       -0.554      1.241333     0.701333\n",
            "147      0.656667       -0.054      1.441333     0.801333\n",
            "148      0.356667        0.346      1.641333     1.101333\n",
            "149      0.056667       -0.054      1.341333     0.601333\n",
            "\n",
            "[150 rows x 4 columns]\n",
            "[[ 0.68569351 -0.03926846  1.27368233  0.5169038 ]\n",
            " [-0.03926846  0.18800403 -0.32171275 -0.11798121]\n",
            " [ 1.27368233 -0.32171275  3.11317942  1.29638747]\n",
            " [ 0.5169038  -0.11798121  1.29638747  0.58241432]]\n",
            "[4.22484077 0.24224357 0.07852391 0.02368303]\n",
            "[[-0.36158968  0.65653988  0.58099728  0.31725455]\n",
            " [ 0.08226889  0.72971237 -0.59641809 -0.32409435]\n",
            " [-0.85657211 -0.1757674  -0.07252408 -0.47971899]\n",
            " [-0.35884393 -0.07470647 -0.54906091  0.75112056]]\n",
            "[[-0.36158968  0.65653988]\n",
            " [ 0.08226889  0.72971237]\n",
            " [-0.85657211 -0.1757674 ]\n",
            " [-0.35884393 -0.07470647]]\n",
            "[[ 2.68420713  0.32660731]\n",
            " [ 2.71539062 -0.16955685]\n",
            " [ 2.88981954 -0.13734561]\n",
            " [ 2.7464372  -0.31112432]\n",
            " [ 2.72859298  0.33392456]\n",
            " [ 2.27989736  0.74778271]\n",
            " [ 2.82089068 -0.08210451]\n",
            " [ 2.62648199  0.17040535]\n",
            " [ 2.88795857 -0.57079803]\n",
            " [ 2.67384469 -0.1066917 ]\n",
            " [ 2.50652679  0.65193501]\n",
            " [ 2.61314272  0.02152063]\n",
            " [ 2.78743398 -0.22774019]\n",
            " [ 3.22520045 -0.50327991]\n",
            " [ 2.64354322  1.1861949 ]\n",
            " [ 2.38386932  1.34475434]\n",
            " [ 2.6225262   0.81808967]\n",
            " [ 2.64832273  0.31913667]\n",
            " [ 2.19907796  0.87924409]\n",
            " [ 2.58734619  0.52047364]\n",
            " [ 2.3105317   0.39786782]\n",
            " [ 2.54323491  0.44003175]\n",
            " [ 3.21585769  0.14161557]\n",
            " [ 2.30312854  0.10552268]\n",
            " [ 2.35617109 -0.03120959]\n",
            " [ 2.50791723 -0.13905634]\n",
            " [ 2.469056    0.13788731]\n",
            " [ 2.56239095  0.37468456]\n",
            " [ 2.63982127  0.31929007]\n",
            " [ 2.63284791 -0.19007583]\n",
            " [ 2.58846205 -0.19739308]\n",
            " [ 2.41007734  0.41808001]\n",
            " [ 2.64763667  0.81998263]\n",
            " [ 2.59715948  1.10002193]\n",
            " [ 2.67384469 -0.1066917 ]\n",
            " [ 2.86699985  0.0771931 ]\n",
            " [ 2.62522846  0.60680001]\n",
            " [ 2.67384469 -0.1066917 ]\n",
            " [ 2.98184266 -0.48025005]\n",
            " [ 2.59032303  0.23605934]\n",
            " [ 2.77013891  0.27105942]\n",
            " [ 2.85221108 -0.93286537]\n",
            " [ 2.99829644 -0.33430757]\n",
            " [ 2.4055141   0.19591726]\n",
            " [ 2.20883295  0.44269603]\n",
            " [ 2.71566519 -0.24268148]\n",
            " [ 2.53757337  0.51036755]\n",
            " [ 2.8403213  -0.22057634]\n",
            " [ 2.54268576  0.58628103]\n",
            " [ 2.70391231  0.11501085]\n",
            " [-1.28479459  0.68543919]\n",
            " [-0.93241075  0.31919809]\n",
            " [-1.46406132  0.50418983]\n",
            " [-0.18096721 -0.82560394]\n",
            " [-1.08713449  0.07539039]\n",
            " [-0.64043675 -0.41732348]\n",
            " [-1.09522371  0.28389121]\n",
            " [ 0.75146714 -1.00110751]\n",
            " [-1.04329778  0.22895691]\n",
            " [ 0.01019007 -0.72057487]\n",
            " [ 0.5110862  -1.26249195]\n",
            " [-0.51109806 -0.10228411]\n",
            " [-0.26233576 -0.5478933 ]\n",
            " [-0.98404455 -0.12436042]\n",
            " [ 0.174864   -0.25181557]\n",
            " [-0.92757294  0.46823621]\n",
            " [-0.65959279 -0.35197629]\n",
            " [-0.23454059 -0.33192183]\n",
            " [-0.94236171 -0.54182226]\n",
            " [-0.0432464  -0.58148945]\n",
            " [-1.11624072 -0.08421401]\n",
            " [-0.35678657 -0.06682383]\n",
            " [-1.29646885 -0.32756152]\n",
            " [-0.92050265 -0.18239036]\n",
            " [-0.71400821  0.15037915]\n",
            " [-0.89964086  0.32961098]\n",
            " [-1.33104142  0.24466952]\n",
            " [-1.55739627  0.26739258]\n",
            " [-0.81245555 -0.16233157]\n",
            " [ 0.30733476 -0.36508661]\n",
            " [ 0.07034289 -0.70253793]\n",
            " [ 0.19188449 -0.67749054]\n",
            " [-0.13499495 -0.31170964]\n",
            " [-1.37873698 -0.42120514]\n",
            " [-0.58727485 -0.48328427]\n",
            " [-0.8072055   0.19505396]\n",
            " [-1.22042897  0.40803534]\n",
            " [-0.81286779 -0.370679  ]\n",
            " [-0.24519516 -0.26672804]\n",
            " [-0.16451343 -0.67966147]\n",
            " [-0.46303099 -0.66952655]\n",
            " [-0.89016045 -0.03381244]\n",
            " [-0.22887905 -0.40225762]\n",
            " [ 0.70708128 -1.00842476]\n",
            " [-0.35553304 -0.50321849]\n",
            " [-0.33112695 -0.21118014]\n",
            " [-0.37523823 -0.29162202]\n",
            " [-0.64169028  0.01907118]\n",
            " [ 0.90846333 -0.75156873]\n",
            " [-0.29780791 -0.34701652]\n",
            " [-2.53172698 -0.01184224]\n",
            " [-1.41407223 -0.57492506]\n",
            " [-2.61648461  0.34193529]\n",
            " [-1.97081495 -0.18112569]\n",
            " [-2.34975798 -0.04188255]\n",
            " [-3.39687992  0.54716805]\n",
            " [-0.51938325 -1.19135169]\n",
            " [-2.9320051   0.35237701]\n",
            " [-2.31967279 -0.24554817]\n",
            " [-2.91813423  0.78038063]\n",
            " [-1.66193495  0.2420384 ]\n",
            " [-1.80234045 -0.21615461]\n",
            " [-2.16537886  0.21528028]\n",
            " [-1.34459422 -0.77641543]\n",
            " [-1.5852673  -0.53930705]\n",
            " [-1.90474358  0.11881899]\n",
            " [-1.94924878  0.04073026]\n",
            " [-3.48876538  1.17154454]\n",
            " [-3.79468686  0.25326557]\n",
            " [-1.29832982 -0.76101394]\n",
            " [-2.42816726  0.37678197]\n",
            " [-1.19809737 -0.60557896]\n",
            " [-3.49926548  0.45677347]\n",
            " [-1.38766825 -0.20403099]\n",
            " [-2.27585365  0.33338653]\n",
            " [-2.61419383  0.55836695]\n",
            " [-1.25762518 -0.179137  ]\n",
            " [-1.29066965 -0.11642525]\n",
            " [-2.12285398 -0.21085488]\n",
            " [-2.3875644   0.46251925]\n",
            " [-2.84096093  0.37274259]\n",
            " [-3.2323429   1.37052404]\n",
            " [-2.15873837 -0.21832553]\n",
            " [-1.4431026  -0.14380129]\n",
            " [-1.77964011 -0.50146479]\n",
            " [-3.07652162  0.68576444]\n",
            " [-2.14498686  0.13890661]\n",
            " [-1.90486293  0.04804751]\n",
            " [-1.16885347 -0.1645025 ]\n",
            " [-2.10765373  0.37148225]\n",
            " [-2.31430339  0.18260885]\n",
            " [-1.92245088  0.40927118]\n",
            " [-1.41407223 -0.57492506]\n",
            " [-2.56332271  0.2759745 ]\n",
            " [-2.41939122  0.30350394]\n",
            " [-1.94401705  0.18741522]\n",
            " [-1.52566363 -0.37502085]\n",
            " [-1.76404594  0.07851919]\n",
            " [-1.90162908  0.11587675]\n",
            " [-1.38966613 -0.28288671]]\n"
          ],
          "name": "stdout"
        }
      ]
    },
    {
      "cell_type": "code",
      "metadata": {
        "id": "SETf8W518MUD",
        "colab": {
          "base_uri": "https://localhost:8080/",
          "height": 409
        },
        "outputId": "888de56b-c7d0-471b-b338-b773f393d0e9"
      },
      "source": [
        "import seaborn as sb\n",
        "import matplotlib.pyplot as plt\n",
        " \n",
        "plt.figure(figsize = (6,6))\n",
        "sb.scatterplot(data = df , x = 'PC1',y = 'PC2' , hue = 'target' , s = 60 , palette= 'viridis')"
      ],
      "execution_count": null,
      "outputs": [
        {
          "output_type": "execute_result",
          "data": {
            "text/plain": [
              "<matplotlib.axes._subplots.AxesSubplot at 0x7f1031449790>"
            ]
          },
          "metadata": {
            "tags": []
          },
          "execution_count": 70
        },
        {
          "output_type": "display_data",
          "data": {
            "image/png": "[encoded data removed]",
            "text/plain": [
              "<Figure size 432x432 with 1 Axes>"
            ]
          },
          "metadata": {
            "tags": [],
            "needs_background": "light"
          }
        }
      ]
    }
  ]
}