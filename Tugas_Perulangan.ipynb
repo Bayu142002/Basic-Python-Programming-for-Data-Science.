{
  "nbformat": 4,
  "nbformat_minor": 0,
  "metadata": {
    "colab": {
      "name": "Tugas Perulangan",
      "provenance": [],
      "authorship_tag": "ABX9TyO56JtD5OYKxlnpDr8fZgib",
      "include_colab_link": true
    },
    "kernelspec": {
      "name": "python3",
      "display_name": "Python 3"
    },
    "language_info": {
      "name": "python"
    }
  },
  "cells": [
    {
      "cell_type": "markdown",
      "metadata": {
        "id": "view-in-github",
        "colab_type": "text"
      },
      "source": [
        "<a href=\"https://colab.research.google.com/github/Bayu142002/Basic-Python-Programming-for-Data-Science./blob/main/Tugas_Perulangan.ipynb\" target=\"_parent\"><img src=\"https://colab.research.google.com/assets/colab-badge.svg\" alt=\"Open In Colab\"/></a>"
      ]
    },
    {
      "cell_type": "code",
      "metadata": {
        "colab": {
          "base_uri": "https://localhost:8080/"
        },
        "id": "u4bUFQDiJafS",
        "outputId": "a9a03e95-865a-4a49-bcf9-40d7963ed825"
      },
      "source": [
        "x = []\n",
        "for x in range (2,11):\n",
        "  if (x%2)==0:\n",
        "    print(x,\"adalah bilangan genap\")\n",
        "\n",
        "\n",
        "for x in range (2,11):\n",
        "  if (x%2)==1:\n",
        "    print(x,\"adalah bilangan ganjil\")\n",
        "\n"
      ],
      "execution_count": 55,
      "outputs": [
        {
          "output_type": "stream",
          "text": [
            "2 adalah bilangan genap\n",
            "4 adalah bilangan genap\n",
            "6 adalah bilangan genap\n",
            "8 adalah bilangan genap\n",
            "10 adalah bilangan genap\n",
            "3 adalah bilangan ganjil\n",
            "5 adalah bilangan ganjil\n",
            "7 adalah bilangan ganjil\n",
            "9 adalah bilangan ganjil\n"
          ],
          "name": "stdout"
        }
      ]
    }
  ]
}