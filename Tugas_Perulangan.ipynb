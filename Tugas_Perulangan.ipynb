{
  "nbformat": 4,
  "nbformat_minor": 0,
  "metadata": {
    "colab": {
      "name": "Tugas Perulangan",
      "provenance": [],
      "authorship_tag": "ABX9TyMrpuSoIyO8jPW1Zx/l5IV7",
      "include_colab_link": true
    },
    "kernelspec": {
      "name": "python3",
      "display_name": "Python 3"
    },
    "language_info": {
      "name": "python"
    }
  },
  "cells": [
    {
      "cell_type": "markdown",
      "metadata": {
        "id": "view-in-github",
        "colab_type": "text"
      },
      "source": [
        "<a href=\"https://colab.research.google.com/github/Bayu142002/Basic-Python-Programming-for-Data-Science./blob/main/Tugas_Perulangan.ipynb\" target=\"_parent\"><img src=\"https://colab.research.google.com/assets/colab-badge.svg\" alt=\"Open In Colab\"/></a>"
      ]
    },
    {
      "cell_type": "code",
      "metadata": {
        "colab": {
          "base_uri": "https://localhost:8080/"
        },
        "id": "BxPkD90Bs9i1",
        "outputId": "17d33781-6aa3-4d1a-e369-1534676e0c5d"
      },
      "source": [
        "# Output genap ganjil\n",
        "for x in range (1,11):\n",
        "  if (x%2)==0:\n",
        "    print(x,\"= genap\",end =', ')\n",
        "  elif (x%2)==1:\n",
        "    print(x,\"= ganjil\",end=', ')"
      ],
      "execution_count": 31,
      "outputs": [
        {
          "output_type": "stream",
          "text": [
            "1 = ganjil, 2 = genap, 3 = ganjil, 4 = genap, 5 = ganjil, 6 = genap, 7 = ganjil, 8 = genap, 9 = ganjil, 10 = genap, "
          ],
          "name": "stdout"
        }
      ]
    }
  ]
}