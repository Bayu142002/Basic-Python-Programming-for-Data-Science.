{
  "nbformat": 4,
  "nbformat_minor": 0,
  "metadata": {
    "colab": {
      "name": "Salinan dari Python_Numpy_Untuk_Pengembangan_Matematika.ipynb",
      "provenance": [],
      "collapsed_sections": [],
      "toc_visible": true,
      "include_colab_link": true
    },
    "kernelspec": {
      "name": "python3",
      "display_name": "Python 3"
    },
    "language_info": {
      "name": "python"
    }
  },
  "cells": [
    {
      "cell_type": "markdown",
      "metadata": {
        "id": "view-in-github",
        "colab_type": "text"
      },
      "source": [
        "<a href=\"https://colab.research.google.com/github/Bayu142002/Basic-Python-Programming-for-Data-Science./blob/main/Salinan_dari_Python_Numpy_Untuk_Pengembangan_Matematika.ipynb\" target=\"_parent\"><img src=\"https://colab.research.google.com/assets/colab-badge.svg\" alt=\"Open In Colab\"/></a>"
      ]
    },
    {
      "cell_type": "markdown",
      "metadata": {
        "id": "W6FLlh_BDNA9"
      },
      "source": [
        "## Python Numpy Untuk Pengembangan Matematika\n",
        "Assalamualaikum warahmatullahi wabarakatuh.\n",
        "Robbi Zidni Ilma Warzuqni Fahma\n",
        "Selamat datang di salah satu notebook utama Kelas Dasar, Pejuang Data 2.0.\n",
        "\n",
        "Dalam Notebook ini, temen-temen akan belajar menggunakan Numpy untuk menuliskan model-model atau permasalahan matematika untuk pengembangan dan penelitian.\n",
        "\n",
        "Ini adalah salah satu tujuan utama kelas ini, yaitu memberikan bekal kepada mahasiswa Matematika agar bisa membangun sendiri model-model permasalahan Matematika ke dalam bahasa pemrograman Python. \n",
        "\n",
        "Ada beberapa tips agar bisa dengan cepat bisa membuat pemrograman dari suatu model matematika:\n",
        "1. Pahami benar model atau langkah-langkah suatu metode(misal model Regresi Linear).\n",
        "2. Pahami tipe data berkaitan dengan metode tersebut(numerik atau string). Jika berkaitan dengan bilangan float maka perhatikan dengan baik pembulatan yang terjadi saat proses penghitungan.\n",
        "3. Kuasai benar konsep dasar pemrograman seperti if, for loop, while loop, function, inout-output, dll.\n",
        "4. Sering berlatih membuat kode from scratch(dari dasar) bukan memnggunakan library atau packages\n",
        "\n"
      ]
    },
    {
      "cell_type": "markdown",
      "metadata": {
        "id": "cN7PRZVeExRy"
      },
      "source": [
        "## Beberapa Contoh Sederhana"
      ]
    },
    {
      "cell_type": "markdown",
      "metadata": {
        "id": "HigQ7QUrE0ME"
      },
      "source": [
        "### Mean, Median, Modus"
      ]
    },
    {
      "cell_type": "code",
      "metadata": {
        "id": "Qc1337mqDH17"
      },
      "source": [
        "import numpy as np\n",
        "dataset=np.array([1,1,2,3,4,6,18])"
      ],
      "execution_count": 7,
      "outputs": []
    },
    {
      "cell_type": "markdown",
      "metadata": {
        "id": "PWDDbpc-FUtz"
      },
      "source": [
        "**Mean, Median, Modus** menggunakan function numpy"
      ]
    },
    {
      "cell_type": "code",
      "metadata": {
        "colab": {
          "base_uri": "https://localhost:8080/"
        },
        "id": "040-__DIFILj",
        "outputId": "b89ac701-6602-4b48-f93c-ea2f4102bebd"
      },
      "source": [
        "#Rata-rata\n",
        "Rata2=np.mean(dataset)\n",
        "print('Rata-rata', Rata2)\n",
        "\n",
        "#Median\n",
        "Median=np.median(dataset)\n",
        "print('Median', Median)\n",
        "\n",
        "#Modus\n",
        "from scipy import stats\n",
        "Modus=stats.mode(dataset)\n",
        "print('Modus', Modus)"
      ],
      "execution_count": 8,
      "outputs": [
        {
          "output_type": "stream",
          "text": [
            "Rata-rata 5.0\n",
            "Median 3.0\n",
            "Modus ModeResult(mode=array([1]), count=array([2]))\n"
          ],
          "name": "stdout"
        }
      ]
    },
    {
      "cell_type": "markdown",
      "metadata": {
        "id": "0Xe-QMzSG6-u"
      },
      "source": [
        "Khusus untuk Modus kita mengimpor suatu fungsi stats dari Library Scipy yang merupakan Library Numpy yang lebih lengkap untuk Matematika dan Data Science. Di sana tersedia fungsi-fungsi untuk kalkulus, PD dll. Mirip seperti tool box pada Matlab.\n"
      ]
    },
    {
      "cell_type": "markdown",
      "metadata": {
        "id": "LAnOojflHb7y"
      },
      "source": [
        "Notebook ini disusun untuk temen-temen memahami proses pembangunan koding dari dasar. Pada saat pembelajaran nanti kita akan fokus pada ide, masalah, dan step by step penyelesaiannya."
      ]
    },
    {
      "cell_type": "markdown",
      "metadata": {
        "id": "8QaJOFoUH2UQ"
      },
      "source": [
        "**Mean**\n",
        "\n",
        "Jawab pertanyaan-pertanyaan berikut untuk membuat program/fungsi untuk menghitung mean.\n",
        "\n",
        "1. Apa itu mean?\n",
        "2. Bagaimana cara menghitung mean?\n",
        "3. Apa yang harus diketahui(Input)?\n",
        "4. Apa yang akan dihasilkan?\n",
        "5. Apa masalah yang mungkin menghalangi?"
      ]
    },
    {
      "cell_type": "markdown",
      "metadata": {
        "id": "Kd4zV8tOIrDe"
      },
      "source": [
        "Berikut contoh koding menghitung mean dalam bahasa Inggris. Silahkan gunakan sebagai petunjuk!!!\n",
        "\n",
        "```\n",
        "num_list = [21, 11, 19, 3,11,5]\n",
        "# FInd sum of the numbers\n",
        "num_sum = sum(num_list)\n",
        "#divide the sum with length of the list\n",
        "mean = num_sum / len(num_list)\n",
        "print(num_list)\n",
        "print(\"Mean of the above list of numbers is: \" + str(round(mean,2)))\n",
        "```"
      ]
    },
    {
      "cell_type": "code",
      "metadata": {
        "id": "-FQI1ghHIoGb",
        "colab": {
          "base_uri": "https://localhost:8080/"
        },
        "outputId": "5f276fb7-bece-42b1-9144-a0f8cd40f91d"
      },
      "source": [
        "# Mean\n",
        "# Buatlah program/fungsi menghitung mean di sini!\n",
        "import numpy as np\n",
        "a = np.array([0.2,0.1,0.5,1.2,1.6,2.4,3.1])\n",
        "b = np.array([1,2,1,4,1,5,1,6])\n",
        "c = np.array([9,8,7,6,5,4,8,7,6,5])\n",
        "\n",
        "mean_a = np.mean(a)\n",
        "print(\"rata-rata dataset a = \", mean_a)\n",
        "\n",
        "mean_b = np.mean(b)\n",
        "print(\"rata-rata dataset b = \", mean_b)\n",
        "\n",
        "mean_c = np.mean(c)\n",
        "print(\"rata-rata dataset c = \", mean_c)\n"
      ],
      "execution_count": 3,
      "outputs": [
        {
          "output_type": "stream",
          "text": [
            "rata-rata dataset a =  1.3\n",
            "rata-rata dataset b =  2.625\n",
            "rata-rata dataset c =  6.5\n"
          ],
          "name": "stdout"
        }
      ]
    },
    {
      "cell_type": "markdown",
      "metadata": {
        "id": "bb3KeThMIu3Z"
      },
      "source": [
        "**Median**"
      ]
    },
    {
      "cell_type": "markdown",
      "metadata": {
        "id": "gwpWLRjMI2GI"
      },
      "source": [
        "Jawab pertanyaan-pertanyaan berikut untuk membuat program/fungsi untuk menghitung mean.\n",
        "\n",
        "1. Apa itu median?\n",
        "2. Bagaimana cara menghitung median?\n",
        "3. Adakah masalah percabangan atau perulangan?\n",
        "4. Apa yang harus diketahui(Input)?\n",
        "5. Apa yang akan dihasilkan?\n",
        "6. Apa masalah yang mungkin menghalangi?"
      ]
    },
    {
      "cell_type": "markdown",
      "metadata": {
        "id": "oLcGkLjZIoGa"
      },
      "source": [
        "Berikut contoh koding menghitung mean dalam bahasa Inggris. Silahkan gunakan sebagai petunjuk!!!\n",
        "\n",
        "```\n",
        "num_list = [21, 13, 19, 3,11,5]\n",
        "# Sort the list\n",
        "num_list.sort()\n",
        "# Finding the position of the median\n",
        "if len(num_list) % 2 == 0:\n",
        "   first_median = num_list[len(num_list) // 2]\n",
        "   second_median = num_list[len(num_list) // 2 - 1]\n",
        "   median = (first_median + second_median) / 2\n",
        "else:\n",
        "   median = num_list[len(num_list) // 2]\n",
        "print(num_list)\n",
        "print(\"Median of above list is: \" + str(median))\n",
        "```"
      ]
    },
    {
      "cell_type": "code",
      "metadata": {
        "id": "B9yMOdteJIVA",
        "colab": {
          "base_uri": "https://localhost:8080/"
        },
        "outputId": "b886a712-93ac-4dda-c6ca-1221abda7a79"
      },
      "source": [
        "# Median\n",
        "# Buatlah program/fungsi menghitung median di sini!\n",
        "median_a = np.median(a)\n",
        "print(\"median dataset a = \", median_a)\n",
        "\n",
        "median_b = np.median(b)\n",
        "print(\"median dataset b = \", median_b)\n",
        "\n",
        "median_c = np.median(c)\n",
        "print(\"median dataset c = \", median_c)"
      ],
      "execution_count": 4,
      "outputs": [
        {
          "output_type": "stream",
          "text": [
            "median dataset a =  1.2\n",
            "median dataset b =  1.5\n",
            "median dataset c =  6.5\n"
          ],
          "name": "stdout"
        }
      ]
    },
    {
      "cell_type": "markdown",
      "metadata": {
        "id": "UBkGY3mfJOgk"
      },
      "source": [
        "**Modus**"
      ]
    },
    {
      "cell_type": "markdown",
      "metadata": {
        "id": "TAzaPS07JOgk"
      },
      "source": [
        "Jawab pertanyaan-pertanyaan berikut untuk membuat program/fungsi untuk menghitung mean.\n",
        "\n",
        "1. Apa itu modus?\n",
        "2. Bagaimana cara menghitung modus?\n",
        "3. Adakah masalah percabangan atau perulangan?\n",
        "4. Apa yang harus diketahui(Input)?\n",
        "5. Apa yang akan dihasilkan?\n",
        "6. Apa masalah yang mungkin menghalangi?"
      ]
    },
    {
      "cell_type": "markdown",
      "metadata": {
        "id": "wfkohVPMJOgl"
      },
      "source": [
        "Berikut contoh koding menghitung mean dalam bahasa Inggris. Silahkan gunakan sebagai petunjuk!!!\n",
        "\n",
        "```\n",
        "import collections\n",
        "# list of elements to calculate mode\n",
        "num_list = [21, 13, 19, 13,19,13]\n",
        "\n",
        "# Print the list\n",
        "print(num_list)\n",
        "\n",
        "# calculate the frequency of each item\n",
        "data = collections.Counter(num_list)\n",
        "data_list = dict(data)\n",
        "\n",
        "# Print the items with frequency\n",
        "print(data_list)\n",
        "\n",
        "# Find the highest frequency\n",
        "max_value = max(list(data.values()))\n",
        "mode_val = [num for num, freq in data_list.items() if freq == max_value]\n",
        "if len(mode_val) == len(num_list):\n",
        "   print(\"No mode in the list\")\n",
        "else:\n",
        "   print(\"The Mode of the list is : \" + ', '.join(map(str, mode_val)))\n",
        "```"
      ]
    },
    {
      "cell_type": "code",
      "metadata": {
        "id": "H_9_1DvLJOgl",
        "colab": {
          "base_uri": "https://localhost:8080/"
        },
        "outputId": "e9073637-db29-4b1c-90bb-05645bb7b1b5"
      },
      "source": [
        "# Modus\n",
        "# Buatlah program/fungsi menghitung Modus di sini!\n",
        "from scipy import stats\n",
        "modus_a = stats.mode(a)\n",
        "print(\"modus a =\", modus_a)\n",
        "\n",
        "modus_b = stats.mode(b)\n",
        "print(\"modus b =\", modus_b)\n",
        "\n",
        "modus_c = stats.mode(c) \n",
        "print(\"modus c =\", modus_c)\n",
        "\n",
        "\n",
        "\n",
        "\n",
        "\n"
      ],
      "execution_count": 5,
      "outputs": [
        {
          "output_type": "stream",
          "text": [
            "modus a = ModeResult(mode=array([0.1]), count=array([1]))\n",
            "modus b = ModeResult(mode=array([1]), count=array([4]))\n",
            "modus c = ModeResult(mode=array([5]), count=array([2]))\n"
          ],
          "name": "stdout"
        }
      ]
    },
    {
      "cell_type": "markdown",
      "metadata": {
        "id": "DpBiMZoEJeQ_"
      },
      "source": [
        "## Ngoding Regresi Linear"
      ]
    },
    {
      "cell_type": "markdown",
      "metadata": {
        "id": "cVnpnTHDJhHb"
      },
      "source": [
        "Pada bagian ini kamu akan berlatih membuat kode pemrograman didasarkan pada sebuah penghitungan matematis yang sudah tersedia. Mulai dengan langkah-langkah sederhana dan contoh yang sederhana."
      ]
    },
    {
      "cell_type": "markdown",
      "metadata": {
        "id": "sk1wtVn8LBU8"
      },
      "source": [
        "Regresi Linear adalah ...\n",
        "\n",
        "https://teknikelektronika.com/analisis-regresi-linear-sederhana-simple-linear-regression/\n",
        "\n",
        "\n",
        "https://www.geeksforgeeks.org/linear-regression-python-implementation/\n",
        "\n",
        "\n"
      ]
    },
    {
      "cell_type": "markdown",
      "metadata": {
        "id": "AXq5q2bSJtuK"
      },
      "source": [
        "**[1] Import Library yang dibutuhkan**\n"
      ]
    },
    {
      "cell_type": "code",
      "metadata": {
        "id": "y3IrlqJfKMms"
      },
      "source": [
        "#Impor library numpy\n",
        "\n",
        "import numpy as np"
      ],
      "execution_count": 9,
      "outputs": []
    },
    {
      "cell_type": "markdown",
      "metadata": {
        "id": "TP4QODpDKbrL"
      },
      "source": [
        "**[2] Siapkan Data Dalam Bentuk Array**\n",
        "\n",
        "Siapkan data x dan y sebagai berikut:\n",
        "\n",
        "```\n",
        "x=[0, 1, 2, 3, 4, 5, 5, 7, 8, 9]\n",
        "y=[1, 3, 2, 5, 7, 8, 8, 9, 10, 12]\n",
        "\n",
        "```"
      ]
    },
    {
      "cell_type": "code",
      "metadata": {
        "id": "vffaYMUqK1au"
      },
      "source": [
        "# Dataset yang digunakan\n",
        "# Data x\n",
        "x = np.array([0, 1, 2, 3, 4, 5, 5, 7, 8, 9])\n",
        "\n",
        "# Data y\n",
        "y = np.array([1, 3, 2, 5, 7, 8, 8, 9, 10, 12])"
      ],
      "execution_count": 14,
      "outputs": []
    },
    {
      "cell_type": "markdown",
      "metadata": {
        "id": "hpJ5HUDfK4GF"
      },
      "source": [
        "**[3] Menghitung Jumlah Data**"
      ]
    },
    {
      "cell_type": "code",
      "metadata": {
        "id": "dSKTWa_ELbkz",
        "colab": {
          "base_uri": "https://localhost:8080/",
          "height": 339
        },
        "outputId": "9690744a-9727-4704-d38e-89119b71efd3"
      },
      "source": [
        "# Menghitung jumlah data (x)\n",
        "# Simpan dalam variabel n\n",
        "n = np.length(x)\n",
        "n\n"
      ],
      "execution_count": 15,
      "outputs": [
        {
          "output_type": "error",
          "ename": "AttributeError",
          "evalue": "ignored",
          "traceback": [
            "\u001b[0;31m---------------------------------------------------------------------------\u001b[0m",
            "\u001b[0;31mAttributeError\u001b[0m                            Traceback (most recent call last)",
            "\u001b[0;32m<ipython-input-15-cfb9c2929ba5>\u001b[0m in \u001b[0;36m<module>\u001b[0;34m()\u001b[0m\n\u001b[1;32m      1\u001b[0m \u001b[0;31m# Menghitung jumlah data (x)\u001b[0m\u001b[0;34m\u001b[0m\u001b[0;34m\u001b[0m\u001b[0;34m\u001b[0m\u001b[0m\n\u001b[1;32m      2\u001b[0m \u001b[0;31m# Simpan dalam variabel n\u001b[0m\u001b[0;34m\u001b[0m\u001b[0;34m\u001b[0m\u001b[0;34m\u001b[0m\u001b[0m\n\u001b[0;32m----> 3\u001b[0;31m \u001b[0mn\u001b[0m \u001b[0;34m=\u001b[0m \u001b[0mnp\u001b[0m\u001b[0;34m.\u001b[0m\u001b[0mlength\u001b[0m\u001b[0;34m(\u001b[0m\u001b[0mx\u001b[0m\u001b[0;34m)\u001b[0m\u001b[0;34m\u001b[0m\u001b[0;34m\u001b[0m\u001b[0m\n\u001b[0m\u001b[1;32m      4\u001b[0m \u001b[0mn\u001b[0m\u001b[0;34m\u001b[0m\u001b[0;34m\u001b[0m\u001b[0m\n",
            "\u001b[0;32m/usr/local/lib/python3.7/dist-packages/numpy/__init__.py\u001b[0m in \u001b[0;36m__getattr__\u001b[0;34m(attr)\u001b[0m\n\u001b[1;32m    213\u001b[0m             \u001b[0;32melse\u001b[0m\u001b[0;34m:\u001b[0m\u001b[0;34m\u001b[0m\u001b[0;34m\u001b[0m\u001b[0m\n\u001b[1;32m    214\u001b[0m                 raise AttributeError(\"module {!r} has no attribute \"\n\u001b[0;32m--> 215\u001b[0;31m                                      \"{!r}\".format(__name__, attr))\n\u001b[0m\u001b[1;32m    216\u001b[0m \u001b[0;34m\u001b[0m\u001b[0m\n\u001b[1;32m    217\u001b[0m         \u001b[0;32mdef\u001b[0m \u001b[0m__dir__\u001b[0m\u001b[0;34m(\u001b[0m\u001b[0;34m)\u001b[0m\u001b[0;34m:\u001b[0m\u001b[0;34m\u001b[0m\u001b[0;34m\u001b[0m\u001b[0m\n",
            "\u001b[0;31mAttributeError\u001b[0m: module 'numpy' has no attribute 'length'"
          ]
        }
      ]
    },
    {
      "cell_type": "markdown",
      "metadata": {
        "id": "MOp9oi5TLlLc"
      },
      "source": [
        "**[4] Menghitung rata-rata masing-masing vektor x dan y**"
      ]
    },
    {
      "cell_type": "code",
      "metadata": {
        "id": "KVsym4bJLrLw"
      },
      "source": [
        "# Menghitung rata-rata vektor x dan y\n",
        "# Simpan dalam m_x\n",
        "\n",
        "\n",
        "# Simpan dalam m_y"
      ],
      "execution_count": null,
      "outputs": []
    },
    {
      "cell_type": "markdown",
      "metadata": {
        "id": "rmHLx_PeOqEQ"
      },
      "source": [
        "**[5] Hitung cross-deviation dan deviation dari x**\n",
        "```\n",
        "SS_xy=jumlahan(y*x)-(n*mean(y)*mean(x))\n",
        "SS_xx=jumlahan(x*x)-(n*mean(x)*mean(x))\n",
        "```"
      ]
    },
    {
      "cell_type": "code",
      "metadata": {
        "id": "eSJ-PoR0PFOn"
      },
      "source": [
        "## SS_xy\n",
        "\n",
        "\n",
        "## SS_xx\n",
        "\n"
      ],
      "execution_count": null,
      "outputs": []
    },
    {
      "cell_type": "markdown",
      "metadata": {
        "id": "CfBcOQg0LyGv"
      },
      "source": [
        "**[6] Menghitung koefisien regresi b1 dan b0**\n",
        "\n",
        "```\n",
        "b_1 = SS_xy / SS_xx\n",
        "b_0 = m_y - b_1*m_x\n",
        "```"
      ]
    },
    {
      "cell_type": "code",
      "metadata": {
        "id": "1nafVsHFPqdG"
      },
      "source": [
        "## b_1\n",
        "\n",
        "\n",
        "## b_0"
      ],
      "execution_count": null,
      "outputs": []
    },
    {
      "cell_type": "markdown",
      "metadata": {
        "id": "YBMjLBgFPtkB"
      },
      "source": [
        "**[7] Prediksi Model**\n",
        "\n",
        "```\n",
        "y_pred = b_0 + b_1*x\n",
        "```"
      ]
    },
    {
      "cell_type": "code",
      "metadata": {
        "id": "ZAnHnZUMP749"
      },
      "source": [
        "## Y pred\n",
        "\n"
      ],
      "execution_count": null,
      "outputs": []
    },
    {
      "cell_type": "markdown",
      "metadata": {
        "id": "ZZV8OmcqP7bV"
      },
      "source": [
        "**[8] Menghitung selisih hasil prediksi dengan data sebenarnya**\n",
        "\n",
        "Galat= vektor y_pred - vektor y\n"
      ]
    },
    {
      "cell_type": "code",
      "metadata": {
        "id": "bQuaO4c1QNMm"
      },
      "source": [
        "# Galat\n",
        "\n"
      ],
      "execution_count": null,
      "outputs": []
    }
  ]
}