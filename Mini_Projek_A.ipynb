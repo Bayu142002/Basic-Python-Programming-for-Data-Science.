{
  "nbformat": 4,
  "nbformat_minor": 0,
  "metadata": {
    "colab": {
      "name": "Mini Projek A",
      "provenance": [],
      "authorship_tag": "ABX9TyM/0KHCP+HIekf3sv96NlZ0",
      "include_colab_link": true
    },
    "kernelspec": {
      "name": "python3",
      "display_name": "Python 3"
    },
    "language_info": {
      "name": "python"
    }
  },
  "cells": [
    {
      "cell_type": "markdown",
      "metadata": {
        "id": "view-in-github",
        "colab_type": "text"
      },
      "source": [
        "<a href=\"https://colab.research.google.com/github/Bayu142002/Basic-Python-Programming-for-Data-Science./blob/main/Mini_Projek_A.ipynb\" target=\"_parent\"><img src=\"https://colab.research.google.com/assets/colab-badge.svg\" alt=\"Open In Colab\"/></a>"
      ]
    },
    {
      "cell_type": "code",
      "metadata": {
        "colab": {
          "base_uri": "https://localhost:8080/"
        },
        "id": "QE1Pm9Qft13N",
        "outputId": "a4e2a5a5-1780-43cd-eb4a-9207aaad5bb9"
      },
      "source": [
        "#Menentukan suatu bilangan yang diinput tersebut positif,negatif,atau nol\n",
        "x = int(input(\"masukan bilangan x = \"))\n",
        "if x>0:\n",
        "  print(x,\"adalah bilangan positif\")\n",
        "elif x==0:\n",
        "  print(x,\"nol\")\n",
        "else:\n",
        "  print(x,\"adalah bilangan negatif\")\n",
        "\n",
        "    "
      ],
      "execution_count": 8,
      "outputs": [
        {
          "output_type": "stream",
          "text": [
            "masukan bilangan x = 0\n",
            "0 nol\n"
          ],
          "name": "stdout"
        }
      ]
    }
  ]
}