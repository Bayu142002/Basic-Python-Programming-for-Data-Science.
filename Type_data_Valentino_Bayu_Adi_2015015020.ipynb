{
  "nbformat": 4,
  "nbformat_minor": 0,
  "metadata": {
    "colab": {
      "name": "Type data-Valentino Bayu Adi-2015015020",
      "provenance": [],
      "collapsed_sections": [],
      "authorship_tag": "ABX9TyMMx6LqCLJxxNxfEVJ6WHTg",
      "include_colab_link": true
    },
    "kernelspec": {
      "name": "python3",
      "display_name": "Python 3"
    },
    "language_info": {
      "name": "python"
    }
  },
  "cells": [
    {
      "cell_type": "markdown",
      "metadata": {
        "id": "view-in-github",
        "colab_type": "text"
      },
      "source": [
        "<a href=\"https://colab.research.google.com/github/Bayu142002/Basic-Python-Programming-for-Data-Science./blob/main/Type_data_Valentino_Bayu_Adi_2015015020.ipynb\" target=\"_parent\"><img src=\"https://colab.research.google.com/assets/colab-badge.svg\" alt=\"Open In Colab\"/></a>"
      ]
    },
    {
      "cell_type": "code",
      "metadata": {
        "colab": {
          "base_uri": "https://localhost:8080/"
        },
        "id": "sBioq2dZD2gH",
        "outputId": "007adb47-a990-4bdb-b10c-ff5d58f6f43e"
      },
      "source": [
        "print(\"Assalamualaikum\")\n",
        "A = 'Hallo dunia!!'\n",
        "print(\"Assalamualaikum\",A)"
      ],
      "execution_count": 2,
      "outputs": [
        {
          "output_type": "stream",
          "text": [
            "Assalamualaikum\n",
            "Assalamualaikum Hallo dunia!!\n"
          ],
          "name": "stdout"
        }
      ]
    },
    {
      "cell_type": "code",
      "metadata": {
        "colab": {
          "base_uri": "https://localhost:8080/"
        },
        "id": "EgT-YgIkIe0t",
        "outputId": "1adb7a45-676d-44a6-a313-0c455d46b5c2"
      },
      "source": [
        "#type data string\n",
        "a = \"hai gaes!!\"\n",
        "print(a)\n",
        "print(type(a))\n",
        "\n",
        "#type data integer\n",
        "b = 1400\n",
        "print(b)\n",
        "print(type(b))\n",
        "\n",
        "#type data float\n",
        "c = 0.12323\n",
        "print(c)\n",
        "print(type(c))\n",
        "\n",
        "#type data compleks number\n",
        "d = 3j + 1\n",
        "print(d)\n",
        "print(type(d))\n",
        "\n",
        "#type data boolean\n",
        "e = True\n",
        "print(e)\n",
        "print(type(e))\n",
        "\n",
        "#type data list\n",
        "f = [\"satu\",\"dua\",\"tiga\"]\n",
        "print(f)\n",
        "print(type(f))\n",
        "\n",
        "#type data tuple\n",
        "g = (\"satu\",\"dua\",\"tiga\")\n",
        "print(g)\n",
        "print(type(g))\n",
        "\n",
        "#type data set\n",
        "h = {\"satu\",\"dua\",\"tiga\"}\n",
        "print(h)\n",
        "print(type(h))\n",
        "\n",
        "#type data dictionary\n",
        "i = {1:\"satu\",2:\"dua\",3:'tiga'}\n",
        "print(i)\n",
        "print(type(i))"
      ],
      "execution_count": 7,
      "outputs": [
        {
          "output_type": "stream",
          "text": [
            "hai gaes!!\n",
            "<class 'str'>\n",
            "1400\n",
            "<class 'int'>\n",
            "0.12323\n",
            "<class 'float'>\n",
            "(1+3j)\n",
            "<class 'complex'>\n",
            "True\n",
            "<class 'bool'>\n",
            "['satu', 'dua', 'tiga']\n",
            "<class 'list'>\n",
            "('satu', 'dua', 'tiga')\n",
            "<class 'tuple'>\n",
            "{'tiga', 'dua', 'satu'}\n",
            "<class 'set'>\n",
            "{1: 'satu', 2: 'dua', 3: 'tiga'}\n",
            "<class 'dict'>\n"
          ],
          "name": "stdout"
        }
      ]
    }
  ]
}