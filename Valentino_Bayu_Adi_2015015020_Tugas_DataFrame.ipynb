{
  "nbformat": 4,
  "nbformat_minor": 0,
  "metadata": {
    "colab": {
      "name": "Valentino Bayu Adi_2015015020_Tugas_DataFrame.ipynb",
      "provenance": [],
      "include_colab_link": true
    },
    "kernelspec": {
      "name": "python3",
      "display_name": "Python 3"
    },
    "language_info": {
      "name": "python"
    }
  },
  "cells": [
    {
      "cell_type": "markdown",
      "metadata": {
        "id": "view-in-github",
        "colab_type": "text"
      },
      "source": [
        "<a href=\"https://colab.research.google.com/github/Bayu142002/Basic-Python-Programming-for-Data-Science./blob/main/Valentino_Bayu_Adi_2015015020_Tugas_DataFrame.ipynb\" target=\"_parent\"><img src=\"https://colab.research.google.com/assets/colab-badge.svg\" alt=\"Open In Colab\"/></a>"
      ]
    },
    {
      "cell_type": "markdown",
      "metadata": {
        "id": "TQTRIrnnv1d1"
      },
      "source": [
        "## Dataset"
      ]
    },
    {
      "cell_type": "code",
      "metadata": {
        "id": "jFnqKL5rG7GZ"
      },
      "source": [
        "import pandas as pd\n",
        "import numpy as np"
      ],
      "execution_count": null,
      "outputs": []
    },
    {
      "cell_type": "code",
      "metadata": {
        "id": "4p4yyTIrIIFj",
        "colab": {
          "base_uri": "https://localhost:8080/",
          "height": 204
        },
        "outputId": "dc756b20-87ae-4793-972a-b755e3d09b0a"
      },
      "source": [
        "df = pd.read_csv(\"https://raw.githubusercontent.com/jokoeliyanto/Kelas-Dasar-Pejuang-Data-2.0/main/Super-Store-Dataset.csv\")\n",
        "df.head() "
      ],
      "execution_count": null,
      "outputs": [
        {
          "output_type": "execute_result",
          "data": {
            "text/html": [
              "<div>\n",
              "<style scoped>\n",
              "    .dataframe tbody tr th:only-of-type {\n",
              "        vertical-align: middle;\n",
              "    }\n",
              "\n",
              "    .dataframe tbody tr th {\n",
              "        vertical-align: top;\n",
              "    }\n",
              "\n",
              "    .dataframe thead th {\n",
              "        text-align: right;\n",
              "    }\n",
              "</style>\n",
              "<table border=\"1\" class=\"dataframe\">\n",
              "  <thead>\n",
              "    <tr style=\"text-align: right;\">\n",
              "      <th></th>\n",
              "      <th>order_id</th>\n",
              "      <th>order_date</th>\n",
              "      <th>customer_id</th>\n",
              "      <th>segment</th>\n",
              "      <th>category</th>\n",
              "      <th>sub_category</th>\n",
              "      <th>sales</th>\n",
              "      <th>quantity</th>\n",
              "      <th>profit</th>\n",
              "    </tr>\n",
              "  </thead>\n",
              "  <tbody>\n",
              "    <tr>\n",
              "      <th>0</th>\n",
              "      <td>CA-2016-152156</td>\n",
              "      <td>11/8/2016</td>\n",
              "      <td>CG-12520</td>\n",
              "      <td>Consumer</td>\n",
              "      <td>Furniture</td>\n",
              "      <td>Bookcases</td>\n",
              "      <td>261.9600</td>\n",
              "      <td>2</td>\n",
              "      <td>41.9136</td>\n",
              "    </tr>\n",
              "    <tr>\n",
              "      <th>1</th>\n",
              "      <td>CA-2016-152156</td>\n",
              "      <td>11/8/2016</td>\n",
              "      <td>CG-12520</td>\n",
              "      <td>Consumer</td>\n",
              "      <td>Furniture</td>\n",
              "      <td>Chairs</td>\n",
              "      <td>731.9400</td>\n",
              "      <td>3</td>\n",
              "      <td>219.5820</td>\n",
              "    </tr>\n",
              "    <tr>\n",
              "      <th>2</th>\n",
              "      <td>CA-2016-138688</td>\n",
              "      <td>6/12/2016</td>\n",
              "      <td>DV-13045</td>\n",
              "      <td>Corporate</td>\n",
              "      <td>Office Supplies</td>\n",
              "      <td>Labels</td>\n",
              "      <td>14.6200</td>\n",
              "      <td>2</td>\n",
              "      <td>6.8714</td>\n",
              "    </tr>\n",
              "    <tr>\n",
              "      <th>3</th>\n",
              "      <td>US-2015-108966</td>\n",
              "      <td>10/11/2015</td>\n",
              "      <td>SO-20335</td>\n",
              "      <td>Consumer</td>\n",
              "      <td>Furniture</td>\n",
              "      <td>Tables</td>\n",
              "      <td>957.5775</td>\n",
              "      <td>5</td>\n",
              "      <td>-383.0310</td>\n",
              "    </tr>\n",
              "    <tr>\n",
              "      <th>4</th>\n",
              "      <td>US-2015-108966</td>\n",
              "      <td>10/11/2015</td>\n",
              "      <td>SO-20335</td>\n",
              "      <td>Consumer</td>\n",
              "      <td>Office Supplies</td>\n",
              "      <td>Storage</td>\n",
              "      <td>22.3680</td>\n",
              "      <td>2</td>\n",
              "      <td>2.5164</td>\n",
              "    </tr>\n",
              "  </tbody>\n",
              "</table>\n",
              "</div>"
            ],
            "text/plain": [
              "         order_id  order_date customer_id  ...     sales quantity    profit\n",
              "0  CA-2016-152156   11/8/2016    CG-12520  ...  261.9600        2   41.9136\n",
              "1  CA-2016-152156   11/8/2016    CG-12520  ...  731.9400        3  219.5820\n",
              "2  CA-2016-138688   6/12/2016    DV-13045  ...   14.6200        2    6.8714\n",
              "3  US-2015-108966  10/11/2015    SO-20335  ...  957.5775        5 -383.0310\n",
              "4  US-2015-108966  10/11/2015    SO-20335  ...   22.3680        2    2.5164\n",
              "\n",
              "[5 rows x 9 columns]"
            ]
          },
          "metadata": {
            "tags": []
          },
          "execution_count": 12
        }
      ]
    },
    {
      "cell_type": "markdown",
      "metadata": {
        "id": "eP0Iue6RHPHT"
      },
      "source": [
        "#1. Tentukan Segment mana dengan profit tertinggi! [30]"
      ]
    },
    {
      "cell_type": "code",
      "metadata": {
        "id": "USLW0URTHX0r",
        "colab": {
          "base_uri": "https://localhost:8080/"
        },
        "outputId": "f8489322-254c-4e94-82a4-ad967ff48b48"
      },
      "source": [
        "max_profit=df['profit'].max()\n",
        "df['segment'].iloc[df.index[df['profit']==max_profit].tolist()]"
      ],
      "execution_count": null,
      "outputs": [
        {
          "output_type": "execute_result",
          "data": {
            "text/plain": [
              "9033    Consumer\n",
              "Name: segment, dtype: object"
            ]
          },
          "metadata": {
            "tags": []
          },
          "execution_count": 15
        }
      ]
    },
    {
      "cell_type": "markdown",
      "metadata": {
        "id": "8HXzB2bhJA9v"
      },
      "source": [
        "jadi,profit tertinggi terjadi pada segment consumer"
      ]
    },
    {
      "cell_type": "markdown",
      "metadata": {
        "id": "tWtk5_lvJYbt"
      },
      "source": [
        "#2. Tentukan Category mana dengan sales terbanyak!  [30]"
      ]
    },
    {
      "cell_type": "code",
      "metadata": {
        "id": "FxXqWu8BJOMf",
        "colab": {
          "base_uri": "https://localhost:8080/"
        },
        "outputId": "e928fb0d-75c2-4b48-b237-5c2e5af9da2f"
      },
      "source": [
        "max_sales=df['sales'].max()\n",
        "df['category'].iloc[df.index[df['sales']==max_sales].tolist()]"
      ],
      "execution_count": null,
      "outputs": [
        {
          "output_type": "execute_result",
          "data": {
            "text/plain": [
              "9033    Office Supplies\n",
              "Name: category, dtype: object"
            ]
          },
          "metadata": {
            "tags": []
          },
          "execution_count": 17
        }
      ]
    },
    {
      "cell_type": "markdown",
      "metadata": {
        "id": "jXYgwqD6KL1i"
      },
      "source": [
        "jadi,sales tertinggi terjadi pada category office supplies"
      ]
    },
    {
      "cell_type": "markdown",
      "metadata": {
        "id": "_AS7vNIzKZtF"
      },
      "source": [
        "# 3. Tentukan Sub-Category dengan quantity paling sedikit! [40]"
      ]
    },
    {
      "cell_type": "code",
      "metadata": {
        "id": "DK-H_naLHLoo",
        "colab": {
          "base_uri": "https://localhost:8080/"
        },
        "outputId": "55b38606-f281-4d60-e01e-4cdac13ebf35"
      },
      "source": [
        "min_quantity=df['quantity'].min()\n",
        "df['sub_category'].iloc[df.index[df['quantity']==min_quantity].tolist()]\n"
      ],
      "execution_count": null,
      "outputs": [
        {
          "output_type": "execute_result",
          "data": {
            "text/plain": [
              "52           Chairs\n",
              "61              Art\n",
              "70          Binders\n",
              "74          Storage\n",
              "79       Appliances\n",
              "           ...     \n",
              "9958    Furnishings\n",
              "9959          Paper\n",
              "9974         Tables\n",
              "9980    Accessories\n",
              "9981    Accessories\n",
              "Name: sub_category, Length: 899, dtype: object"
            ]
          },
          "metadata": {
            "tags": []
          },
          "execution_count": 30
        }
      ]
    },
    {
      "cell_type": "markdown",
      "metadata": {
        "id": "at1kw4qFPzSF"
      },
      "source": [
        "\n",
        "jadi, Sub-Category dengan quantity paling sedikit adalah chairs"
      ]
    },
    {
      "cell_type": "markdown",
      "metadata": {
        "id": "xEQpf44WL0ii"
      },
      "source": [
        "#4. Challange Question!!! Tentukan Bulan dengan Profit Tertinggi!!!\n"
      ]
    },
    {
      "cell_type": "code",
      "metadata": {
        "id": "4LYgFs05Ojea",
        "colab": {
          "base_uri": "https://localhost:8080/"
        },
        "outputId": "32a6ff3b-9466-411f-98fd-51dfccaded17"
      },
      "source": [
        "max_profit=df['profit'].max()\n",
        "df['order_date'].iloc[df.index[df['profit']==max_profit].tolist()]"
      ],
      "execution_count": null,
      "outputs": [
        {
          "output_type": "execute_result",
          "data": {
            "text/plain": [
              "9033    12/17/2016\n",
              "Name: order_date, dtype: object"
            ]
          },
          "metadata": {
            "tags": []
          },
          "execution_count": 26
        }
      ]
    },
    {
      "cell_type": "markdown",
      "metadata": {
        "id": "zRBURVdJPrkp"
      },
      "source": [
        "jadi,profit tertinggi terjadi pada bulan desember"
      ]
    }
  ]
}