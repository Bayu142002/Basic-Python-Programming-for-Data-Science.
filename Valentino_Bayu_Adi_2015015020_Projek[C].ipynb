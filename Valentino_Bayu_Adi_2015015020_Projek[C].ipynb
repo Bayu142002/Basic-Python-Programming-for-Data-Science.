{
  "nbformat": 4,
  "nbformat_minor": 0,
  "metadata": {
    "colab": {
      "name": "Valentino Bayu Adi_2015015020_Projek[C]",
      "provenance": [],
      "authorship_tag": "ABX9TyNXBFs95fuwv+JbaXid5nxD",
      "include_colab_link": true
    },
    "kernelspec": {
      "name": "python3",
      "display_name": "Python 3"
    },
    "language_info": {
      "name": "python"
    }
  },
  "cells": [
    {
      "cell_type": "markdown",
      "metadata": {
        "id": "view-in-github",
        "colab_type": "text"
      },
      "source": [
        "<a href=\"https://colab.research.google.com/github/Bayu142002/Basic-Python-Programming-for-Data-Science./blob/main/Valentino_Bayu_Adi_2015015020_Projek%5BC%5D.ipynb\" target=\"_parent\"><img src=\"https://colab.research.google.com/assets/colab-badge.svg\" alt=\"Open In Colab\"/></a>"
      ]
    },
    {
      "cell_type": "code",
      "metadata": {
        "id": "zrzp6EfsdyoB"
      },
      "source": [
        "import pandas as pd\n",
        "import numpy as np"
      ],
      "execution_count": 1,
      "outputs": []
    },
    {
      "cell_type": "code",
      "metadata": {
        "colab": {
          "base_uri": "https://localhost:8080/"
        },
        "id": "E5_NlMSxttUD",
        "outputId": "fd695020-4879-4e74-f422-e17908dd9f24"
      },
      "source": [
        "# Mencari Batas Bawah\n",
        "x = 0.26667\n",
        "y = []\n",
        "while x <= 2:\n",
        "  x = x + 0.33333\n",
        "  y.append(x)\n",
        "print(y)"
      ],
      "execution_count": 159,
      "outputs": [
        {
          "output_type": "stream",
          "text": [
            "[0.6000000000000001, 0.9333300000000001, 1.2666600000000001, 1.59999, 1.9333200000000001, 2.2666500000000003]\n"
          ],
          "name": "stdout"
        }
      ]
    },
    {
      "cell_type": "code",
      "metadata": {
        "id": "1hjspQlyKRgq"
      },
      "source": [
        ""
      ],
      "execution_count": null,
      "outputs": []
    },
    {
      "cell_type": "code",
      "metadata": {
        "colab": {
          "base_uri": "https://localhost:8080/"
        },
        "id": "iXbNlWmIu8PP",
        "outputId": "0f58886c-79d4-44f8-f57d-a0e19eaeaf37"
      },
      "source": [
        "# Mencari Batas Atas\n",
        "p = 0.6\n",
        "q = []\n",
        "while p < 2.5:\n",
        "  p = p + 0.33333\n",
        "  q.append(p)\n",
        "\n",
        "q[5] = 2.60000\n",
        "print(q)"
      ],
      "execution_count": 156,
      "outputs": [
        {
          "output_type": "stream",
          "text": [
            "[0.93333, 1.26666, 1.59999, 1.9333200000000001, 2.2666500000000003, 2.6]\n"
          ],
          "name": "stdout"
        }
      ]
    },
    {
      "cell_type": "code",
      "metadata": {
        "colab": {
          "base_uri": "https://localhost:8080/"
        },
        "id": "r8aXWICE1nqZ",
        "outputId": "f2817411-4bdb-4017-e75e-f83e2eab7254"
      },
      "source": [
        "# Mencari Nilai Tengah\n",
        "a = np.add(z,q)\n",
        "b = a/2\n",
        "b"
      ],
      "execution_count": 157,
      "outputs": [
        {
          "output_type": "execute_result",
          "data": {
            "text/plain": [
              "array([0.766665, 1.099995, 1.433325, 1.766655, 2.099985, 2.433325])"
            ]
          },
          "metadata": {
            "tags": []
          },
          "execution_count": 157
        }
      ]
    },
    {
      "cell_type": "code",
      "metadata": {
        "colab": {
          "base_uri": "https://localhost:8080/",
          "height": 233
        },
        "id": "gBTpl5z2s037",
        "outputId": "a7d660c3-5031-45cd-a628-192119d97985"
      },
      "source": [
        "# Buat Menjadi Data Frame\n",
        "list1 = [\"U1\",\"U2\",\"U3\",\"U4\",\"U5\",\"U6\"]\n",
        "dict1 = {\"Nama Kelas\":list1,\"Batas Bawah\":y,\"Batas Atas\":q,\"Nilai Tengah\":b}\n",
        "df = pd.DataFrame(dict1)\n",
        "df"
      ],
      "execution_count": 160,
      "outputs": [
        {
          "output_type": "execute_result",
          "data": {
            "text/html": [
              "<div>\n",
              "<style scoped>\n",
              "    .dataframe tbody tr th:only-of-type {\n",
              "        vertical-align: middle;\n",
              "    }\n",
              "\n",
              "    .dataframe tbody tr th {\n",
              "        vertical-align: top;\n",
              "    }\n",
              "\n",
              "    .dataframe thead th {\n",
              "        text-align: right;\n",
              "    }\n",
              "</style>\n",
              "<table border=\"1\" class=\"dataframe\">\n",
              "  <thead>\n",
              "    <tr style=\"text-align: right;\">\n",
              "      <th></th>\n",
              "      <th>Nama Kelas</th>\n",
              "      <th>Batas Bawah</th>\n",
              "      <th>Batas Atas</th>\n",
              "      <th>Nilai Tengah</th>\n",
              "    </tr>\n",
              "  </thead>\n",
              "  <tbody>\n",
              "    <tr>\n",
              "      <th>0</th>\n",
              "      <td>U1</td>\n",
              "      <td>0.60000</td>\n",
              "      <td>0.93333</td>\n",
              "      <td>0.766665</td>\n",
              "    </tr>\n",
              "    <tr>\n",
              "      <th>1</th>\n",
              "      <td>U2</td>\n",
              "      <td>0.93333</td>\n",
              "      <td>1.26666</td>\n",
              "      <td>1.099995</td>\n",
              "    </tr>\n",
              "    <tr>\n",
              "      <th>2</th>\n",
              "      <td>U3</td>\n",
              "      <td>1.26666</td>\n",
              "      <td>1.59999</td>\n",
              "      <td>1.433325</td>\n",
              "    </tr>\n",
              "    <tr>\n",
              "      <th>3</th>\n",
              "      <td>U4</td>\n",
              "      <td>1.59999</td>\n",
              "      <td>1.93332</td>\n",
              "      <td>1.766655</td>\n",
              "    </tr>\n",
              "    <tr>\n",
              "      <th>4</th>\n",
              "      <td>U5</td>\n",
              "      <td>1.93332</td>\n",
              "      <td>2.26665</td>\n",
              "      <td>2.099985</td>\n",
              "    </tr>\n",
              "    <tr>\n",
              "      <th>5</th>\n",
              "      <td>U6</td>\n",
              "      <td>2.26665</td>\n",
              "      <td>2.60000</td>\n",
              "      <td>2.433325</td>\n",
              "    </tr>\n",
              "  </tbody>\n",
              "</table>\n",
              "</div>"
            ],
            "text/plain": [
              "  Nama Kelas  Batas Bawah  Batas Atas  Nilai Tengah\n",
              "0         U1      0.60000     0.93333      0.766665\n",
              "1         U2      0.93333     1.26666      1.099995\n",
              "2         U3      1.26666     1.59999      1.433325\n",
              "3         U4      1.59999     1.93332      1.766655\n",
              "4         U5      1.93332     2.26665      2.099985\n",
              "5         U6      2.26665     2.60000      2.433325"
            ]
          },
          "metadata": {
            "tags": []
          },
          "execution_count": 160
        }
      ]
    }
  ]
}