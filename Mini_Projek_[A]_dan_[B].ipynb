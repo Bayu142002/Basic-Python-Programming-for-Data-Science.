{
  "nbformat": 4,
  "nbformat_minor": 0,
  "metadata": {
    "colab": {
      "name": "Mini Projek [A] dan [B]",
      "provenance": [],
      "collapsed_sections": [],
      "authorship_tag": "ABX9TyOMh1bHUbaGPQfNpaF8N5pl",
      "include_colab_link": true
    },
    "kernelspec": {
      "name": "python3",
      "display_name": "Python 3"
    },
    "language_info": {
      "name": "python"
    }
  },
  "cells": [
    {
      "cell_type": "markdown",
      "metadata": {
        "id": "view-in-github",
        "colab_type": "text"
      },
      "source": [
        "<a href=\"https://colab.research.google.com/github/Bayu142002/Basic-Python-Programming-for-Data-Science./blob/main/Mini_Projek_%5BA%5D_dan_%5BB%5D.ipynb\" target=\"_parent\"><img src=\"https://colab.research.google.com/assets/colab-badge.svg\" alt=\"Open In Colab\"/></a>"
      ]
    },
    {
      "cell_type": "code",
      "metadata": {
        "colab": {
          "base_uri": "https://localhost:8080/"
        },
        "id": "QE1Pm9Qft13N",
        "outputId": "e689b503-ee7e-4913-ee6e-6c5869c24110"
      },
      "source": [
        "#Menentukan suatu bilangan yang diinput tersebut positif,negatif,atau nol\n",
        "x = int(input(\"masukan bilangan x = \"))\n",
        "if x>0:\n",
        "  print(x,\"adalah bilangan positif\")\n",
        "elif x==0:\n",
        "  print(x,\"nol\")\n",
        "else:\n",
        "  print(x,\"adalah bilangan negatif\")"
      ],
      "execution_count": 12,
      "outputs": [
        {
          "output_type": "stream",
          "text": [
            "masukan bilangan x = -10\n",
            "-10 adalah bilangan negatif\n"
          ],
          "name": "stdout"
        }
      ]
    },
    {
      "cell_type": "code",
      "metadata": {
        "colab": {
          "base_uri": "https://localhost:8080/"
        },
        "id": "l3U6_-37a6A6",
        "outputId": "426b89c8-176f-41a3-acb8-b26362482776"
      },
      "source": [
        "#Menentukan Mahal Diskon\n",
        "jumlah = int(input(\"Masukan jumlah barang = \"))\n",
        "harga = int(input(\"Masukan harga barang = \"))\n",
        "total = (jumlah * harga)\n",
        "print(\"Jumlah Total = \",total)\n",
        "\n",
        "if total >= 150000:\n",
        "  diskon = total * (40/100)\n",
        "  print(\"Kamu dapet diskon 40%\")\n",
        "elif total >= 100000:\n",
        "  diskon = total * (20/100)\n",
        "  print(\"Kamu dapet diskon 20%\")\n",
        "elif total >= 50000:\n",
        "  diskon = total * (10/100)\n",
        "  print(\"Kamu dapet diskon 10%\")\n",
        "else:\n",
        "  diskon = total * (0/100)\n",
        "  print(\"Maaf kamu belum dapet diskon\")\n",
        "\n",
        "harga_diskon = total - diskon\n",
        "if harga_diskon > 100000:\n",
        "  print(\"Mahal!!\")\n",
        "else:\n",
        "  print(\"Murah!!\")\n",
        "print(\"Karena harga yang harus dibayarkan = \",harga_diskon)"
      ],
      "execution_count": 14,
      "outputs": [
        {
          "output_type": "stream",
          "text": [
            "Masukan jumlah barang = 2\n",
            "Masukan harga barang = 50000\n",
            "Jumlah Total =  100000\n",
            "Kamu dapet diskon 20%\n",
            "Murah!!\n",
            "Karena harga yang harus dibayarkan =  80000.0\n"
          ],
          "name": "stdout"
        }
      ]
    }
  ]
}