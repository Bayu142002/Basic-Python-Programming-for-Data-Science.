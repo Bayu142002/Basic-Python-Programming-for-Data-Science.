{
  "nbformat": 4,
  "nbformat_minor": 0,
  "metadata": {
    "colab": {
      "name": "Perulangan While Valentino Bayu Adi(2015015020).ipynb",
      "provenance": [],
      "authorship_tag": "ABX9TyMkwz7IdOoQzFOjCVQCj7Uc",
      "include_colab_link": true
    },
    "kernelspec": {
      "name": "python3",
      "display_name": "Python 3"
    },
    "language_info": {
      "name": "python"
    }
  },
  "cells": [
    {
      "cell_type": "markdown",
      "metadata": {
        "id": "view-in-github",
        "colab_type": "text"
      },
      "source": [
        "<a href=\"https://colab.research.google.com/github/Bayu142002/Basic-Python-Programming-for-Data-Science./blob/main/Perulangan_While_Valentino_Bayu_Adi(2015015020).ipynb\" target=\"_parent\"><img src=\"https://colab.research.google.com/assets/colab-badge.svg\" alt=\"Open In Colab\"/></a>"
      ]
    },
    {
      "cell_type": "markdown",
      "metadata": {
        "id": "oWvQ5lwKWWNn"
      },
      "source": [
        "Buatlah sebuah program perulangan while dengan output \"Saya Mahasiswa UAD\" sebanyak 10 kali!"
      ]
    },
    {
      "cell_type": "code",
      "metadata": {
        "colab": {
          "base_uri": "https://localhost:8080/"
        },
        "id": "RMYZzf0AWVys",
        "outputId": "62ad8e91-1afc-4358-d528-f1eda610e2e1"
      },
      "source": [
        "a = 1\n",
        "while (a <= 10):\n",
        "  print(\"Saya Mahasiswa UAD\")\n",
        "  a = a + 1"
      ],
      "execution_count": 1,
      "outputs": [
        {
          "output_type": "stream",
          "text": [
            "Saya Mahasiswa UAD\n",
            "Saya Mahasiswa UAD\n",
            "Saya Mahasiswa UAD\n",
            "Saya Mahasiswa UAD\n",
            "Saya Mahasiswa UAD\n",
            "Saya Mahasiswa UAD\n",
            "Saya Mahasiswa UAD\n",
            "Saya Mahasiswa UAD\n",
            "Saya Mahasiswa UAD\n",
            "Saya Mahasiswa UAD\n"
          ],
          "name": "stdout"
        }
      ]
    },
    {
      "cell_type": "markdown",
      "metadata": {
        "id": "REoo0D-ZXJNh"
      },
      "source": [
        " Buatlah sebuah program perulangan while untuk membuat deret kelipatan 5 dengan rentang 100!"
      ]
    },
    {
      "cell_type": "code",
      "metadata": {
        "colab": {
          "base_uri": "https://localhost:8080/"
        },
        "id": "IGFdDQdtbZBF",
        "outputId": "b213223c-d597-4001-98fe-7db20ec3766d"
      },
      "source": [
        "b = 5\n",
        "while (b <= 100):\n",
        "  print(b, end =\" \")\n",
        "  b = b + 5"
      ],
      "execution_count": 13,
      "outputs": [
        {
          "output_type": "stream",
          "text": [
            "5 10 15 20 25 30 35 40 45 50 55 60 65 70 75 80 85 90 95 100 "
          ],
          "name": "stdout"
        }
      ]
    },
    {
      "cell_type": "markdown",
      "metadata": {
        "id": "ZrlscM5Ac5BP"
      },
      "source": [
        "buatlah sebuah program perulangan dari N sampai D dengan selisih -1!"
      ]
    },
    {
      "cell_type": "code",
      "metadata": {
        "colab": {
          "base_uri": "https://localhost:8080/"
        },
        "id": "se5zxs12c-CQ",
        "outputId": "f9069537-8668-427b-d4e5-0412d9e1f87c"
      },
      "source": [
        "x = \"N\"\n",
        "a = ord(x)\n",
        "y = \"D\"\n",
        "b = ord(y)\n",
        "while (x >= y):\n",
        "  x = chr(a)\n",
        "  print(x, end = \" \")\n",
        "  a = a-1"
      ],
      "execution_count": 17,
      "outputs": [
        {
          "output_type": "stream",
          "text": [
            "N M L K J I H G F E D C "
          ],
          "name": "stdout"
        }
      ]
    }
  ]
}