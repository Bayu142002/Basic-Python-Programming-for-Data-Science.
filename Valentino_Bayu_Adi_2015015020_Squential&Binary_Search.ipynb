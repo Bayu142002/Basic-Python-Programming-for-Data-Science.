{
  "nbformat": 4,
  "nbformat_minor": 0,
  "metadata": {
    "colab": {
      "name": "Valentino Bayu Adi_2015015020_Squential&Binary Search",
      "provenance": [],
      "authorship_tag": "ABX9TyOC+r1EptbbwZxEgdNgHu5j",
      "include_colab_link": true
    },
    "kernelspec": {
      "name": "python3",
      "display_name": "Python 3"
    },
    "language_info": {
      "name": "python"
    }
  },
  "cells": [
    {
      "cell_type": "markdown",
      "metadata": {
        "id": "view-in-github",
        "colab_type": "text"
      },
      "source": [
        "<a href=\"https://colab.research.google.com/github/Bayu142002/Basic-Python-Programming-for-Data-Science./blob/main/Valentino_Bayu_Adi_2015015020_Squential%26Binary_Search.ipynb\" target=\"_parent\"><img src=\"https://colab.research.google.com/assets/colab-badge.svg\" alt=\"Open In Colab\"/></a>"
      ]
    },
    {
      "cell_type": "markdown",
      "metadata": {
        "id": "-6nXbnQuqSlw"
      },
      "source": [
        "#Squential Search"
      ]
    },
    {
      "cell_type": "code",
      "metadata": {
        "id": "vGf7Jo9haEsQ"
      },
      "source": [
        "def mencari_angka(NIM,angka):\n",
        "  data = []\n",
        "  for i in range(len(NIM)):\n",
        "    if NIM [i] == angka:\n",
        "      data.append(i+1)\n",
        "  if len(NIM)>0:\n",
        "    hasil = print('Angka',angka,'ditemukan sebanyak',len(data),'diposisi',data) \n",
        "  else :\n",
        "    hasil = print('Angka yang anda maksud tidak ditemukan')\n",
        "  return hasil"
      ],
      "execution_count": 13,
      "outputs": []
    },
    {
      "cell_type": "code",
      "metadata": {
        "colab": {
          "base_uri": "https://localhost:8080/"
        },
        "id": "1M3C6wK8djwK",
        "outputId": "56971de2-7554-492d-89d2-6a97e5746ac9"
      },
      "source": [
        "NIM = [2,0,1,5,0,1,5,0,2,0]\n",
        "mencari_angka(NIM, 0)"
      ],
      "execution_count": 14,
      "outputs": [
        {
          "output_type": "stream",
          "text": [
            "Angka 0 sebanyak 4 ditemukan diposisi [2, 5, 8, 10]\n"
          ],
          "name": "stdout"
        }
      ]
    },
    {
      "cell_type": "code",
      "metadata": {
        "id": "fGOIZ8LJhI5r"
      },
      "source": [
        "def mencari_huruf(kata,huruf):\n",
        "  data2 = []\n",
        "  for i in range(len(kata)):\n",
        "    if kata [i] == huruf:\n",
        "      data2.append(i+1)\n",
        "  if len(data2)>0:\n",
        "    hasil = print('Huruf',huruf,'ditemukan sebanyak',len(data2),'diposisi',data2) \n",
        "  else :\n",
        "    hasil = print('Alfabet yang anda maksud tidak ditemukan')\n",
        "  return hasil"
      ],
      "execution_count": 15,
      "outputs": []
    },
    {
      "cell_type": "code",
      "metadata": {
        "colab": {
          "base_uri": "https://localhost:8080/"
        },
        "id": "8oQaiHDVhvfm",
        "outputId": "e66b9772-bb92-4fcc-b5fe-5d776bae3f44"
      },
      "source": [
        "kata = [\"m\",\"a\",\"t\",\"e\",\"m\",\"a\",\"t\",\"i\",\"k\",\"a\"]\n",
        "mencari_huruf(kata,\"i\")"
      ],
      "execution_count": 16,
      "outputs": [
        {
          "output_type": "stream",
          "text": [
            "Huruf i ditemukan sebanyak 1 diposisi [8]\n"
          ],
          "name": "stdout"
        }
      ]
    },
    {
      "cell_type": "markdown",
      "metadata": {
        "id": "oXVy02VVrLJg"
      },
      "source": [
        "# Binary Search"
      ]
    },
    {
      "cell_type": "code",
      "metadata": {
        "id": "2Vl7L5HHrPcZ"
      },
      "source": [
        "def mencari_nilai_0(NIM,angka):\n",
        "  awal = 1\n",
        "  akhir = len(NIM)+1\n",
        "  ketemu = False\n",
        "  while (awal<=akhir)and not ketemu:\n",
        "    tengah = int((awal+akhir)/2)\n",
        "    if angka==NIM[tengah]:\n",
        "      ketemu = True\n",
        "      print(\"Angka\", angka, \"Pada NIM ditemukan di posisi\", tengah)\n",
        "    elif (angka<NIM[tengah]):\n",
        "      akhir = tengah-1\n",
        "    else:\n",
        "      awal = tengah +1\n",
        "  if ketemu == False:\n",
        "    print(\"Angka tidak ditemukan\")"
      ],
      "execution_count": 17,
      "outputs": []
    },
    {
      "cell_type": "code",
      "metadata": {
        "colab": {
          "base_uri": "https://localhost:8080/"
        },
        "id": "DYGuZ2BAyNge",
        "outputId": "858d2377-70de-4b70-c190-71ee233a5cf3"
      },
      "source": [
        "NIM = [2,0,1,5,0,1,5,0,2,0]\n",
        "mencari_nilai_0(NIM, 0)"
      ],
      "execution_count": 19,
      "outputs": [
        {
          "output_type": "stream",
          "text": [
            "Angka 0 Pada NIM ditemukan di posisi 1\n"
          ],
          "name": "stdout"
        }
      ]
    },
    {
      "cell_type": "code",
      "metadata": {
        "id": "7ER1U3IYyNQ1"
      },
      "source": [
        "def mencari_huruf(kata,huruf):\n",
        "  awal = 3\n",
        "  akhir = len(kata)+1\n",
        "  ketemu = False\n",
        "  while (awal<=akhir) and not ketemu:\n",
        "    tengah = int((awal + akhir)/2)\n",
        "    if huruf == kata[tengah]:\n",
        "      ketemu = True\n",
        "      print('Huruf',huruf,'ditemukan diposisi',tengah,'pada kata',Kata)\n",
        "    elif (huruf<kata[tengah]):\n",
        "      akhir = tengah-1\n",
        "    else :\n",
        "      awal = tengah+1\n",
        "  if not ketemu:\n",
        "    print('alfabet yang anda maksud tidak ditemukan')"
      ],
      "execution_count": 20,
      "outputs": []
    },
    {
      "cell_type": "code",
      "metadata": {
        "colab": {
          "base_uri": "https://localhost:8080/"
        },
        "id": "nVGzQduZymoW",
        "outputId": "851004dc-9616-4459-92c2-302efc0a5f6f"
      },
      "source": [
        "Kata = ['m','a','t','e','m','a','t','i','k','a']\n",
        "mencari_huruf(Kata,'i')"
      ],
      "execution_count": 21,
      "outputs": [
        {
          "output_type": "stream",
          "text": [
            "Huruf i ditemukan diposisi 7 pada kata ['m', 'a', 't', 'e', 'm', 'a', 't', 'i', 'k', 'a']\n"
          ],
          "name": "stdout"
        }
      ]
    }
  ]
}